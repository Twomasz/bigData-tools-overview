{
 "cells": [
  {
   "cell_type": "markdown",
   "id": "0338521a",
   "metadata": {
    "ExecuteTime": {
     "end_time": "2025-04-04T01:15:10.939782Z",
     "start_time": "2025-04-04T01:15:09.483563Z"
    },
    "vscode": {
     "languageId": "r"
    }
   },
   "source": [
    "# Cassandra datasource"
   ]
  },
  {
   "cell_type": "markdown",
   "id": "9a1bfd03",
   "metadata": {
    "vscode": {
     "languageId": "r"
    }
   },
   "source": [
    "### 1. Init and check PySpark configuration"
   ]
  },
  {
   "cell_type": "code",
   "execution_count": 1,
   "id": "8ba7e319",
   "metadata": {},
   "outputs": [
    {
     "name": "stdout",
     "output_type": "stream",
     "text": [
      "findspark                   2.0.1\r\n",
      "pyspark                     3.5.4\r\n"
     ]
    }
   ],
   "source": [
    "!pip list | grep spark"
   ]
  },
  {
   "cell_type": "code",
   "execution_count": 2,
   "id": "a7209eab",
   "metadata": {},
   "outputs": [],
   "source": [
    "import uuid\n",
    "from typing import Literal\n",
    "\n",
    "import findspark\n",
    "import matplotlib.pyplot as plt\n",
    "import numpy as np\n",
    "from pyspark.sql import SparkSession\n",
    "from pyspark.sql.functions import col, count, avg, when, udf\n",
    "from pyspark.sql.types import BooleanType, StringType, IntegerType\n",
    "\n",
    "import measurment_tools as mt"
   ]
  },
  {
   "cell_type": "code",
   "execution_count": 3,
   "id": "bb256baa",
   "metadata": {},
   "outputs": [
    {
     "name": "stderr",
     "output_type": "stream",
     "text": [
      "25/05/11 22:00:19 WARN SparkSession: Using an existing Spark session; only runtime SQL configurations will take effect.\n",
      "                                                                                \r"
     ]
    },
    {
     "name": "stdout",
     "output_type": "stream",
     "text": [
      "+---+-----+\n",
      "| id| name|\n",
      "+---+-----+\n",
      "|  1|Alice|\n",
      "|  2|  Bob|\n",
      "+---+-----+\n",
      "\n"
     ]
    }
   ],
   "source": [
    "findspark.init()\n",
    "\n",
    "spark = SparkSession.builder.appName(\"test\").getOrCreate()\n",
    "df = spark.createDataFrame([(1, \"Alice\"), (2, \"Bob\")], [\"id\", \"name\"])\n",
    "df.show()"
   ]
  },
  {
   "cell_type": "markdown",
   "id": "c6257c33",
   "metadata": {},
   "source": [
    "### 2. Create a Cassandra session & read data"
   ]
  },
  {
   "cell_type": "code",
   "execution_count": 4,
   "id": "e935d185",
   "metadata": {},
   "outputs": [
    {
     "name": "stderr",
     "output_type": "stream",
     "text": [
      "25/05/11 22:00:26 WARN SparkSession: Using an existing Spark session; only runtime SQL configurations will take effect.\n"
     ]
    }
   ],
   "source": [
    "spark = SparkSession.builder \\\n",
    "    .appName(\"CassandraTest\") \\\n",
    "    .config(\"spark.cassandra.connection.host\", \"127.0.0.1\") \\\n",
    "    .config(\"spark.cassandra.connection.port\", \"9042\") \\\n",
    "    .config(\"spark.jars.packages\", \"com.datastax.spark:spark-cassandra-connector_2.12:3.5.0\") \\\n",
    "    .getOrCreate()"
   ]
  },
  {
   "cell_type": "code",
   "execution_count": 5,
   "id": "23775e7f",
   "metadata": {},
   "outputs": [
    {
     "name": "stderr",
     "output_type": "stream",
     "text": [
      "25/05/11 22:00:29 WARN GarbageCollectionMetrics: To enable non-built-in garbage collector(s) List(G1 Concurrent GC), users should configure it(them) to spark.eventLog.gcMetrics.youngGenerationGarbageCollectors or spark.eventLog.gcMetrics.oldGenerationGarbageCollectors\n",
      "                                                                                \r"
     ]
    }
   ],
   "source": [
    "df = spark.read.csv(\"data/airline.csv.shuffle\", header=True, inferSchema=True).limit(100_000)"
   ]
  },
  {
   "cell_type": "code",
   "execution_count": 6,
   "id": "b2ddf442",
   "metadata": {},
   "outputs": [
    {
     "name": "stderr",
     "output_type": "stream",
     "text": [
      "25/05/11 22:03:35 WARN SparkStringUtils: Truncated the string representation of a plan since it was too large. This behavior can be adjusted by setting 'spark.sql.debug.maxToStringFields'.\n"
     ]
    },
    {
     "name": "stdout",
     "output_type": "stream",
     "text": [
      "+-----------------+-------+--------+-------+----------+----------+--------------+----------------+---------+------------+---------+----------+--------+-------+----+--------+--------+---------+-----------------+-----+--------+------+-------------+-------+------+-------+-------------+------------+----+\n",
      "|ActualElapsedTime|AirTime|ArrDelay|ArrTime|CRSArrTime|CRSDepTime|CRSElapsedTime|CancellationCode|Cancelled|CarrierDelay|DayOfWeek|DayofMonth|DepDelay|DepTime|Dest|Distance|Diverted|FlightNum|LateAircraftDelay|Month|NASDelay|Origin|SecurityDelay|TailNum|TaxiIn|TaxiOut|UniqueCarrier|WeatherDelay|Year|\n",
      "+-----------------+-------+--------+-------+----------+----------+--------------+----------------+---------+------------+---------+----------+--------+-------+----+--------+--------+---------+-----------------+-----+--------+------+-------------+-------+------+-------+-------------+------------+----+\n",
      "|53               |32     |-8      |1642   |1650      |1545      |65            |NA              |0        |NA          |4        |10        |4       |1549   |PIT |205     |0       |209      |NA               |10   |NA      |DCA   |NA           |N443US |7     |14     |US           |NA          |2002|\n",
      "|164              |155    |-11     |1754   |1805      |1610      |175           |NA              |0        |NA          |4        |2         |0       |1610   |MCI |1072    |0       |109      |NA               |12   |NA      |MCO   |NA           |N755   |2     |7      |WN           |NA          |1999|\n",
      "+-----------------+-------+--------+-------+----------+----------+--------------+----------------+---------+------------+---------+----------+--------+-------+----+--------+--------+---------+-----------------+-----+--------+------+-------------+-------+------+-------+-------------+------------+----+\n",
      "only showing top 2 rows\n",
      "\n"
     ]
    }
   ],
   "source": [
    "df.show(2, truncate=False)"
   ]
  },
  {
   "cell_type": "markdown",
   "id": "9b3d21fa",
   "metadata": {},
   "source": [
    "### 3. Data preprocessing\n",
    "\n",
    "- generate primary key\n",
    "- Replace 'NA' with NULL\n",
    "- CamelCase -> snake_case due to insensitive nature of Cassandra"
   ]
  },
  {
   "cell_type": "code",
   "execution_count": 7,
   "id": "26fe436d",
   "metadata": {},
   "outputs": [],
   "source": [
    "def generate_uuid():\n",
    "    \"\"\"Generate a random UUID for primary key\"\"\"\n",
    "    return str(uuid.uuid4())\n",
    "\n",
    "uuid_udf = udf(generate_uuid, StringType())\n",
    "\n",
    "# add UUID column\n",
    "df = df.withColumn(\"id\", uuid_udf())\n",
    "\n",
    "# replace all 'NA' values with None\n",
    "df = df.replace('NA', None)\n",
    "\n",
    "# convert column names to match Cassandra schema\n",
    "df = df.select(\n",
    "    col(\"id\"),\n",
    "    col(\"Year\").cast(IntegerType()).alias(\"year\"),\n",
    "    col(\"Month\").cast(IntegerType()).alias(\"month\"),\n",
    "    col(\"DayofMonth\").cast(IntegerType()).alias(\"day_of_month\"),\n",
    "    col(\"DayOfWeek\").cast(IntegerType()).alias(\"day_of_week\"),\n",
    "    col(\"DepTime\").cast(IntegerType()).alias(\"dep_time\"),\n",
    "    col(\"CRSDepTime\").cast(IntegerType()).alias(\"crs_dep_time\"),\n",
    "    col(\"ArrTime\").cast(IntegerType()).alias(\"arr_time\"),\n",
    "    col(\"CRSArrTime\").cast(IntegerType()).alias(\"crs_arr_time\"),\n",
    "    col(\"UniqueCarrier\").cast(StringType()).alias(\"unique_carrier\"),\n",
    "    col(\"FlightNum\").cast(IntegerType()).alias(\"flight_num\"),\n",
    "    col(\"TailNum\").cast(StringType()).alias(\"tail_num\"),\n",
    "    col(\"ActualElapsedTime\").cast(IntegerType()).alias(\"actual_elapsed_time\"),\n",
    "    col(\"CRSElapsedTime\").cast(IntegerType()).alias(\"crs_elapsed_time\"),\n",
    "    col(\"AirTime\").cast(IntegerType()).alias(\"air_time\"),\n",
    "    col(\"ArrDelay\").cast(IntegerType()).alias(\"arr_delay\"),\n",
    "    col(\"DepDelay\").cast(IntegerType()).alias(\"dep_delay\"),\n",
    "    col(\"Origin\").cast(StringType()).alias(\"origin\"),\n",
    "    col(\"Dest\").cast(StringType()).alias(\"dest\"),\n",
    "    col(\"Distance\").cast(IntegerType()).alias(\"distance\"),\n",
    "    col(\"TaxiIn\").cast(IntegerType()).alias(\"taxi_in\"),\n",
    "    col(\"TaxiOut\").cast(IntegerType()).alias(\"taxi_out\"),\n",
    "    col(\"Cancelled\").cast(BooleanType()).alias(\"cancelled\"),\n",
    "    col(\"CancellationCode\").cast(StringType()).alias(\"cancellation_code\"),\n",
    "    col(\"Diverted\").cast(BooleanType()).alias(\"diverted\"),\n",
    "    col(\"CarrierDelay\").cast(IntegerType()).alias(\"carrier_delay\"),\n",
    "    col(\"WeatherDelay\").cast(IntegerType()).alias(\"weather_delay\"),\n",
    "    col(\"NASDelay\").cast(IntegerType()).alias(\"nas_delay\"),\n",
    "    col(\"SecurityDelay\").cast(IntegerType()).alias(\"security_delay\"),\n",
    "    col(\"LateAircraftDelay\").cast(IntegerType()).alias(\"late_aircraft_delay\")\n",
    ")"
   ]
  },
  {
   "cell_type": "code",
   "execution_count": 8,
   "id": "e7f74b17",
   "metadata": {},
   "outputs": [
    {
     "data": {
      "text/plain": [
       "[('id', 'string'),\n",
       " ('year', 'int'),\n",
       " ('month', 'int'),\n",
       " ('day_of_month', 'int'),\n",
       " ('day_of_week', 'int'),\n",
       " ('dep_time', 'int'),\n",
       " ('crs_dep_time', 'int'),\n",
       " ('arr_time', 'int'),\n",
       " ('crs_arr_time', 'int'),\n",
       " ('unique_carrier', 'string'),\n",
       " ('flight_num', 'int'),\n",
       " ('tail_num', 'string'),\n",
       " ('actual_elapsed_time', 'int'),\n",
       " ('crs_elapsed_time', 'int'),\n",
       " ('air_time', 'int'),\n",
       " ('arr_delay', 'int'),\n",
       " ('dep_delay', 'int'),\n",
       " ('origin', 'string'),\n",
       " ('dest', 'string'),\n",
       " ('distance', 'int'),\n",
       " ('taxi_in', 'int'),\n",
       " ('taxi_out', 'int'),\n",
       " ('cancelled', 'boolean'),\n",
       " ('cancellation_code', 'string'),\n",
       " ('diverted', 'boolean'),\n",
       " ('carrier_delay', 'int'),\n",
       " ('weather_delay', 'int'),\n",
       " ('nas_delay', 'int'),\n",
       " ('security_delay', 'int'),\n",
       " ('late_aircraft_delay', 'int')]"
      ]
     },
     "execution_count": 8,
     "metadata": {},
     "output_type": "execute_result"
    }
   ],
   "source": [
    "df.dtypes"
   ]
  },
  {
   "cell_type": "markdown",
   "id": "6ae7b4f5",
   "metadata": {},
   "source": [
    "### 5. Load data into Cassandra (skipped creation - done on Cassandra container for now)\n",
    "- Create a table\n",
    "- Load data into the table\n",
    "- Query the data from the table"
   ]
  },
  {
   "cell_type": "code",
   "execution_count": 9,
   "id": "d115423d",
   "metadata": {},
   "outputs": [
    {
     "name": "stderr",
     "output_type": "stream",
     "text": [
      "[Stage 6:==================================================>      (80 + 8) / 90]\r"
     ]
    },
    {
     "name": "stdout",
     "output_type": "stream",
     "text": [
      "+--------+\n",
      "|count(1)|\n",
      "+--------+\n",
      "|  100000|\n",
      "+--------+\n",
      "\n"
     ]
    },
    {
     "name": "stderr",
     "output_type": "stream",
     "text": [
      "\r",
      "                                                                                \r"
     ]
    }
   ],
   "source": [
    "# from cassandra.cluster import Cluster\n",
    "# from cassandra.query import SimpleStatement\n",
    "# from cassandra import ConsistencyLevel\n",
    "# cluster = Cluster(['localhost'])\n",
    "# session = cluster.connect() \n",
    "# session.set_keyspace('airline_data')\n",
    "# create_table_query = \"\"\"\n",
    "# CREATE TABLE IF NOT EXISTS flights (\n",
    "#     id UUID PRIMARY KEY,\n",
    "#     year INT,\n",
    "#     month INT,\n",
    "#     day_of_month INT,\n",
    "#     day_of_week INT,\n",
    "#     dep_time INT,\n",
    "#     crs_dep_time INT,\n",
    "#     arr_time INT,\n",
    "#     crs_arr_time INT,\n",
    "#     unique_carrier TEXT,\n",
    "#     flight_num TEXT,\n",
    "#     tail_num TEXT,\n",
    "#     actual_elapsed_time FLOAT,\n",
    "#     crs_elapsed_time FLOAT,\n",
    "#     air_time FLOAT,\n",
    "#     arr_delay FLOAT,\n",
    "#     dep_delay FLOAT,\n",
    "#     origin TEXT,\n",
    "#     dest TEXT,\n",
    "#     distance FLOAT,\n",
    "#     taxi_in FLOAT,\n",
    "#     taxi_out FLOAT,\n",
    "#     cancelled BOOLEAN,\n",
    "#     cancellation_code TEXT,\n",
    "#     diverted BOOLEAN,\n",
    "#     carrier_delay FLOAT,\n",
    "#     weather_delay FLOAT,\n",
    "#     nas_delay FLOAT,\n",
    "#     security_delay FLOAT,\n",
    "#     late_aircraft_delay FLOAT\n",
    "# )\"\"\"\n",
    "\n",
    "# session.execute(create_table_query)\n",
    "\n",
    "# @mt.perf_timer\n",
    "# def read_from_cassandra():\n",
    "#     \"\"\"Odczyt danych z Cassandra przy użyciu DataFrame\"\"\"\n",
    "#     return spark.read \\\n",
    "#         .format(\"org.apache.spark.sql.cassandra\") \\\n",
    "#         .options(table=\"flights\", keyspace=\"airline_data\") \\\n",
    "#         .load()\n",
    "\n",
    "# @mt.perf_timer\n",
    "# def write_to_cassandra_rdd(rdd):\n",
    "#     \"\"\"Zapis danych do Cassandra przy użyciu RDD\"\"\"\n",
    "#     rdd.saveToCassandra(\"airline_data\", \"flights\")\n",
    "\n",
    "# @mt.perf_timer\n",
    "# def read_from_cassandra_rdd():\n",
    "#     \"\"\"Odczyt danych z Cassandra przy użyciu RDD\"\"\"\n",
    "#     return spark.sparkContext \\\n",
    "#         .cassandraTable(\"airline_data\", \"flights\")\n",
    "df.agg(count(\"*\")).show()"
   ]
  },
  {
   "cell_type": "code",
   "execution_count": 10,
   "id": "3331e25b",
   "metadata": {},
   "outputs": [
    {
     "name": "stderr",
     "output_type": "stream",
     "text": [
      "[Stage 11:>                                                         (0 + 1) / 1]\r"
     ]
    },
    {
     "name": "stdout",
     "output_type": "stream",
     "text": [
      "Data successfully written to Cassandra!\n",
      "Function 'load_data' took 87.07572 seconds to execute.\n",
      "Human-readable time: 1.0mins 27.075720934000856secs\n"
     ]
    },
    {
     "name": "stderr",
     "output_type": "stream",
     "text": [
      "\r",
      "                                                                                \r"
     ]
    }
   ],
   "source": [
    "@mt.perf_timer\n",
    "def load_data():\n",
    "    \"\"\"Load DataFrame to Cassandra\"\"\"\n",
    "    df.write \\\n",
    "        .format(\"org.apache.spark.sql.cassandra\") \\\n",
    "        .mode(\"overwrite\") \\\n",
    "        .options(table=\"flights\", keyspace=\"airline_data\") \\\n",
    "        .option(\"confirm.truncate\", \"true\") \\\n",
    "        .save()\n",
    "\n",
    "    print(\"Data successfully written to Cassandra!\")\n",
    "\n",
    "load_data()"
   ]
  },
  {
   "cell_type": "markdown",
   "id": "34fff2a1",
   "metadata": {
    "vscode": {
     "languageId": "r"
    }
   },
   "source": [
    "# 6. Questions"
   ]
  },
  {
   "cell_type": "markdown",
   "id": "886efe81",
   "metadata": {},
   "source": [
    "#### 6.1. When is the best time of day/day of week/time of year to fly to minimise delays?"
   ]
  },
  {
   "cell_type": "code",
   "execution_count": 11,
   "id": "fec74563",
   "metadata": {},
   "outputs": [],
   "source": [
    "# dataframe_copied with TimeOfDay\n",
    "df_cp_tod = df.withColumn(\"time_of_day\", when(col(\"dep_time\") < 1200, \"morning\") \\\n",
    "                          .when(col(\"dep_time\") < 1800, \"afternoon\") \\\n",
    "                          .otherwise(\"evening\"))\n",
    "\n",
    "@mt.perf_timer\n",
    "def give_answer_61(df, by: Literal['time_of_day', 'day_of_week', 'month']):\n",
    "    \"\"\"Aggregate delay over datetimes\"\"\"\n",
    "    df.groupBy(by) \\\n",
    "        .agg(avg(\"arr_delay\").alias(\"avg_arr_delay\")) \\\n",
    "        .orderBy(\"avg_arr_delay\") \\\n",
    "    .show()"
   ]
  },
  {
   "cell_type": "code",
   "execution_count": 12,
   "id": "70818252",
   "metadata": {},
   "outputs": [
    {
     "name": "stderr",
     "output_type": "stream",
     "text": [
      "[Stage 12:======================================================> (87 + 3) / 90]\r"
     ]
    },
    {
     "name": "stdout",
     "output_type": "stream",
     "text": [
      "+-----------+------------------+\n",
      "|time_of_day|     avg_arr_delay|\n",
      "+-----------+------------------+\n",
      "|    morning| 2.514619133111054|\n",
      "|  afternoon| 7.312166866093767|\n",
      "|    evening|15.034083193771783|\n",
      "+-----------+------------------+\n",
      "\n",
      "Function 'give_answer_61' took 8.50906 seconds to execute.\n"
     ]
    },
    {
     "name": "stderr",
     "output_type": "stream",
     "text": [
      "\r",
      "                                                                                \r"
     ]
    }
   ],
   "source": [
    "give_answer_61(df_cp_tod, by=\"time_of_day\")"
   ]
  },
  {
   "cell_type": "code",
   "execution_count": 13,
   "id": "49d5eeb3",
   "metadata": {},
   "outputs": [
    {
     "name": "stderr",
     "output_type": "stream",
     "text": [
      "[Stage 15:=======================================================>(89 + 1) / 90]\r"
     ]
    },
    {
     "name": "stdout",
     "output_type": "stream",
     "text": [
      "+-----------+------------------+\n",
      "|day_of_week|     avg_arr_delay|\n",
      "+-----------+------------------+\n",
      "|          6|3.9948754336171555|\n",
      "|          2| 6.229899585703251|\n",
      "|          7| 6.557286690673918|\n",
      "|          1| 6.598887730274591|\n",
      "|          3| 7.191530584002214|\n",
      "|          4| 9.112538612749228|\n",
      "|          5| 9.956747647802276|\n",
      "+-----------+------------------+\n",
      "\n",
      "Function 'give_answer_61' took 6.82280 seconds to execute.\n"
     ]
    },
    {
     "name": "stderr",
     "output_type": "stream",
     "text": [
      "\r",
      "                                                                                \r"
     ]
    }
   ],
   "source": [
    "give_answer_61(df_cp_tod, by=\"day_of_week\")"
   ]
  },
  {
   "cell_type": "code",
   "execution_count": 14,
   "id": "ca29dd20",
   "metadata": {},
   "outputs": [
    {
     "name": "stderr",
     "output_type": "stream",
     "text": [
      "[Stage 18:====================================================>   (85 + 5) / 90]\r"
     ]
    },
    {
     "name": "stdout",
     "output_type": "stream",
     "text": [
      "+-----+------------------+\n",
      "|month|     avg_arr_delay|\n",
      "+-----+------------------+\n",
      "|    9|3.4376907426246186|\n",
      "|    4| 4.758896241728056|\n",
      "|   10| 5.059097254536994|\n",
      "|   11| 5.576995129261896|\n",
      "|    5| 5.587605016437355|\n",
      "|    2| 7.695141272775284|\n",
      "|    8| 7.752554050843431|\n",
      "|    3| 7.970952322588553|\n",
      "|    1| 8.195403742308175|\n",
      "|    7|  9.30916344010325|\n",
      "|    6|  9.61770871870761|\n",
      "|   12|10.537173396674584|\n",
      "+-----+------------------+\n",
      "\n",
      "Function 'give_answer_61' took 6.36182 seconds to execute.\n"
     ]
    },
    {
     "name": "stderr",
     "output_type": "stream",
     "text": [
      "\r",
      "[Stage 18:=======================================================>(89 + 1) / 90]\r",
      "\r",
      "                                                                                \r"
     ]
    }
   ],
   "source": [
    "give_answer_61(df_cp_tod, by=\"month\")"
   ]
  },
  {
   "cell_type": "markdown",
   "id": "64106c04",
   "metadata": {},
   "source": [
    "#### 6.2. Do older planes suffer more delays?"
   ]
  },
  {
   "cell_type": "code",
   "execution_count": 15,
   "id": "60f73f11",
   "metadata": {},
   "outputs": [],
   "source": [
    "@mt.perf_timer\n",
    "def give_answer_62(df):\n",
    "    \"\"\"Plot average arrival delay by year\"\"\"\n",
    "    # calc avg arrival delay by year\n",
    "    avg_delay_df = df.groupBy(\"year\") \\\n",
    "        .agg(avg(\"arr_delay\").alias(\"avg_arr_delay\")) \\\n",
    "        .orderBy(\"year\")\n",
    "    \n",
    "    # plot pandas df \n",
    "    pandas_df = avg_delay_df.toPandas()\n",
    "    \n",
    "    x = pandas_df[\"year\"]\n",
    "    y = pandas_df[\"avg_arr_delay\"]\n",
    "    \n",
    "    plt.figure(figsize=(10, 6))\n",
    "    plt.bar(x, y, color=\"blue\", alpha=0.7, label=\"Average Delay\")\n",
    "    \n",
    "    # add a trend line using numpy.polyfit\n",
    "    z = np.polyfit(x, y, 1)\n",
    "    p = np.poly1d(z)\n",
    "    plt.plot(x, p(x), color=\"red\", linestyle=\"--\", label=\"Trend Line\")\n",
    "    \n",
    "    plt.title(\"Average Arrival Delay by Year\")\n",
    "    plt.xlabel(\"Year\")\n",
    "    plt.ylabel(\"Average Arrival Delay (minutes)\")\n",
    "    plt.xticks(rotation=45)\n",
    "    plt.legend()\n",
    "    plt.tight_layout()\n",
    "    plt.show()"
   ]
  },
  {
   "cell_type": "code",
   "execution_count": 16,
   "id": "262d4255",
   "metadata": {},
   "outputs": [
    {
     "name": "stderr",
     "output_type": "stream",
     "text": [
      "                                                                                \r"
     ]
    },
    {
     "data": {
      "image/png": "[encoded data removed]",
      "text/plain": [
       "<Figure size 1000x600 with 1 Axes>"
      ]
     },
     "metadata": {},
     "output_type": "display_data"
    },
    {
     "name": "stdout",
     "output_type": "stream",
     "text": [
      "Function 'give_answer_62' took 7.28440 seconds to execute.\n"
     ]
    }
   ],
   "source": [
    "give_answer_62(df)"
   ]
  },
  {
   "cell_type": "markdown",
   "id": "a4863b2b",
   "metadata": {},
   "source": [
    "#### 6.3. How does the number of people flying between different locations change over time?"
   ]
  },
  {
   "cell_type": "code",
   "execution_count": 17,
   "id": "f32a6f95",
   "metadata": {},
   "outputs": [],
   "source": [
    "@mt.perf_timer\n",
    "def give_answer_63(df):\n",
    "    \"\"\"Aggregate flight count over years and months\"\"\"\n",
    "    # group by year, month, origin, and destination\n",
    "    flight_trends = df.groupBy(\"year\", \"month\", \"origin\", \"dest\") \\\n",
    "                    .agg(count(\"*\").alias(\"flight_count\"))\n",
    "\n",
    "    # sort to observe trends\n",
    "    flight_trends = flight_trends.orderBy(\"year\", \"month\")\n",
    "    flight_trends.show()"
   ]
  },
  {
   "cell_type": "code",
   "execution_count": 18,
   "id": "a5c908be",
   "metadata": {},
   "outputs": [
    {
     "name": "stderr",
     "output_type": "stream",
     "text": [
      "[Stage 24:======================================================> (88 + 2) / 90]\r"
     ]
    },
    {
     "name": "stdout",
     "output_type": "stream",
     "text": [
      "+----+-----+------+----+------------+\n",
      "|year|month|origin|dest|flight_count|\n",
      "+----+-----+------+----+------------+\n",
      "|1987|   10|   DTW| DEN|           2|\n",
      "|1987|   10|   DEN| ORD|           1|\n",
      "|1987|   10|   BOS| DCA|           1|\n",
      "|1987|   10|   MSY| DEN|           1|\n",
      "|1987|   10|   ORD| CLT|           1|\n",
      "|1987|   10|   PHX| ELP|           1|\n",
      "|1987|   10|   MSP| MLI|           1|\n",
      "|1987|   10|   TPA| BDL|           1|\n",
      "|1987|   10|   SJC| LAX|           3|\n",
      "|1987|   10|   SFO| LAX|           4|\n",
      "|1987|   10|   PHL| ORF|           1|\n",
      "|1987|   10|   PWM| PIT|           2|\n",
      "|1987|   10|   IAH| CRP|           1|\n",
      "|1987|   10|   OMA| DSM|           1|\n",
      "|1987|   10|   DAB| ATL|           1|\n",
      "|1987|   10|   DEN| OKC|           1|\n",
      "|1987|   10|   ATL| BNA|           1|\n",
      "|1987|   10|   PHX| ABQ|           1|\n",
      "|1987|   10|   ATL| MCI|           1|\n",
      "|1987|   10|   IAD| BOS|           1|\n",
      "+----+-----+------+----+------------+\n",
      "only showing top 20 rows\n",
      "\n",
      "Function 'give_answer_63' took 7.14307 seconds to execute.\n"
     ]
    },
    {
     "name": "stderr",
     "output_type": "stream",
     "text": [
      "\r",
      "                                                                                \r"
     ]
    }
   ],
   "source": [
    "give_answer_63(df)"
   ]
  },
  {
   "cell_type": "markdown",
   "id": "680f782b",
   "metadata": {},
   "source": [
    "#### 6.4. How well does weather predict plane delays?"
   ]
  },
  {
   "cell_type": "code",
   "execution_count": 19,
   "id": "fafc9315",
   "metadata": {},
   "outputs": [],
   "source": [
    "@mt.perf_timer\n",
    "def give_answer_64(df):\n",
    "    \"\"\"Measure correlation between weather delay and arrival delay\"\"\"\n",
    "    # replace NA as no delay\n",
    "    df = df.fillna({\"weather_delay\": 0})\n",
    "\n",
    "    # calc correlation\n",
    "    correlation = df.stat.corr(\"weather_delay\", \"arr_delay\")\n",
    "    print(f\"Correlation between weather_delay and arr_delay: {correlation}\")"
   ]
  },
  {
   "cell_type": "code",
   "execution_count": 20,
   "id": "53747f8e",
   "metadata": {},
   "outputs": [
    {
     "name": "stderr",
     "output_type": "stream",
     "text": [
      "[Stage 27:======================================================> (88 + 2) / 90]\r"
     ]
    },
    {
     "name": "stdout",
     "output_type": "stream",
     "text": [
      "Correlation between weather_delay and arr_delay: 0.17815595168482354\n",
      "Function 'give_answer_64' took 6.40494 seconds to execute.\n"
     ]
    },
    {
     "name": "stderr",
     "output_type": "stream",
     "text": [
      "\r",
      "                                                                                \r"
     ]
    }
   ],
   "source": [
    "give_answer_64(df)"
   ]
  },
  {
   "cell_type": "markdown",
   "id": "55f2613a",
   "metadata": {},
   "source": [
    "#### 6.5. Can you detect cascading failures as delays in one airport create delays in others? Are there critical links in the system?"
   ]
  },
  {
   "cell_type": "code",
   "execution_count": 21,
   "id": "0011f410",
   "metadata": {},
   "outputs": [],
   "source": [
    "@mt.perf_timer\n",
    "def give_answer_65(df):\n",
    "    \"\"\"Try to find a correlation between arrival and departure delays for flights exiting the same airport\"\"\"\n",
    "    joined_df = df.alias(\"a\").join(\n",
    "        df.alias(\"b\"),\n",
    "        col(\"a.dest\") == col(\"b.origin\"),\n",
    "        \"inner\"\n",
    "    ).select(\n",
    "        col(\"a.origin\").alias(\"origin_airport\"),\n",
    "        col(\"a.dest\").alias(\"connecting_airport\"),\n",
    "        col(\"b.dest\").alias(\"final_airport\"),\n",
    "        col(\"a.arr_delay\").alias(\"arrival_delay\"),\n",
    "        col(\"b.dep_delay\").alias(\"departure_delay\")\n",
    "    )\n",
    "\n",
    "    # correlation\n",
    "    correlation = joined_df.stat.corr(\"arrival_delay\", \"departure_delay\")\n",
    "    print(f\"Correlation between arrival and departure delays: {correlation:.4f}\")"
   ]
  },
  {
   "cell_type": "code",
   "execution_count": 22,
   "id": "5fb5ffec",
   "metadata": {},
   "outputs": [
    {
     "name": "stderr",
     "output_type": "stream",
     "text": [
      "[Stage 35:>                                                         (0 + 1) / 1]\r"
     ]
    },
    {
     "name": "stdout",
     "output_type": "stream",
     "text": [
      "Correlation between arrival and departure delays: 0.0027\n",
      "Function 'give_answer_65' took 24.99875 seconds to execute.\n"
     ]
    },
    {
     "name": "stderr",
     "output_type": "stream",
     "text": [
      "\r",
      "                                                                                \r"
     ]
    }
   ],
   "source": [
    "give_answer_65(df)"
   ]
  },
  {
   "cell_type": "code",
   "execution_count": null,
   "id": "0d0ff43d",
   "metadata": {},
   "outputs": [],
   "source": []
  }
 ],
 "metadata": {
  "kernelspec": {
   "display_name": "Python 3 (ipykernel)",
   "language": "python",
   "name": "python3"
  },
  "language_info": {
   "codemirror_mode": {
    "name": "ipython",
    "version": 3
   },
   "file_extension": ".py",
   "mimetype": "text/x-python",
   "name": "python",
   "nbconvert_exporter": "python",
   "pygments_lexer": "ipython3",
   "version": "3.12.3"
  }
 },
 "nbformat": 4,
 "nbformat_minor": 5
}
