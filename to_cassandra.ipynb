{
 "cells": [
  {
   "cell_type": "markdown",
   "id": "0338521a",
   "metadata": {
    "ExecuteTime": {
     "end_time": "2025-04-04T01:15:10.939782Z",
     "start_time": "2025-04-04T01:15:09.483563Z"
    },
    "vscode": {
     "languageId": "r"
    }
   },
   "source": [
    "# Cassandra datasource"
   ]
  },
  {
   "cell_type": "markdown",
   "id": "9a1bfd03",
   "metadata": {
    "vscode": {
     "languageId": "r"
    }
   },
   "source": [
    "### 1. Init and check PySpark configuration"
   ]
  },
  {
   "cell_type": "code",
   "execution_count": 1,
   "id": "8ba7e319",
   "metadata": {},
   "outputs": [
    {
     "name": "stdout",
     "output_type": "stream",
     "text": [
      "findspark                   2.0.1\r\n",
      "pyspark                     3.5.4\r\n"
     ]
    }
   ],
   "source": [
    "!pip list | grep spark"
   ]
  },
  {
   "cell_type": "code",
   "execution_count": 2,
   "id": "a7209eab",
   "metadata": {},
   "outputs": [],
   "source": [
    "import uuid\n",
    "from typing import Literal\n",
    "\n",
    "import findspark\n",
    "import matplotlib.pyplot as plt\n",
    "import numpy as np\n",
    "from pyspark.sql import SparkSession\n",
    "from pyspark.sql.functions import col, count, avg, when, udf\n",
    "from pyspark.sql.types import BooleanType, StringType, IntegerType\n",
    "\n",
    "import measurment_tools as mt"
   ]
  },
  {
   "cell_type": "code",
   "execution_count": 3,
   "id": "bb256baa",
   "metadata": {},
   "outputs": [
    {
     "name": "stderr",
     "output_type": "stream",
     "text": [
      "25/05/22 23:37:12 WARN SparkSession: Using an existing Spark session; only runtime SQL configurations will take effect.\n",
      "                                                                                \r"
     ]
    },
    {
     "name": "stdout",
     "output_type": "stream",
     "text": [
      "+---+-----+\n",
      "| id| name|\n",
      "+---+-----+\n",
      "|  1|Alice|\n",
      "|  2|  Bob|\n",
      "+---+-----+\n",
      "\n"
     ]
    }
   ],
   "source": [
    "findspark.init()\n",
    "\n",
    "spark = SparkSession.builder.appName(\"test\").getOrCreate()\n",
    "df = spark.createDataFrame([(1, \"Alice\"), (2, \"Bob\")], [\"id\", \"name\"])\n",
    "df.show()"
   ]
  },
  {
   "cell_type": "markdown",
   "id": "c6257c33",
   "metadata": {},
   "source": [
    "### 2. Create a Cassandra session & read data"
   ]
  },
  {
   "cell_type": "code",
   "execution_count": 4,
   "id": "e935d185",
   "metadata": {},
   "outputs": [
    {
     "name": "stderr",
     "output_type": "stream",
     "text": [
      "25/05/22 23:37:18 WARN SparkSession: Using an existing Spark session; only runtime SQL configurations will take effect.\n"
     ]
    }
   ],
   "source": [
    "spark = SparkSession.builder \\\n",
    "    .appName(\"CassandraTest\") \\\n",
    "    .config(\"spark.cassandra.connection.host\", \"127.0.0.1\") \\\n",
    "    .config(\"spark.cassandra.connection.port\", \"9042\") \\\n",
    "    .config(\"spark.jars.packages\", \"com.datastax.spark:spark-cassandra-connector_2.12:3.5.0\") \\\n",
    "    .config(\"spark.cassandra.output.concurrent.writes\", 8) \\\n",
    "    .getOrCreate()"
   ]
  },
  {
   "cell_type": "code",
   "execution_count": 5,
   "id": "23775e7f",
   "metadata": {},
   "outputs": [
    {
     "name": "stderr",
     "output_type": "stream",
     "text": [
      "                                                                                \r"
     ]
    }
   ],
   "source": [
    "df = spark.read.csv(\"data/first_million_airline.csv\", header=True, inferSchema=True)"
   ]
  },
  {
   "cell_type": "code",
   "execution_count": 6,
   "id": "b2ddf442",
   "metadata": {},
   "outputs": [
    {
     "name": "stderr",
     "output_type": "stream",
     "text": [
      "25/05/22 23:37:21 WARN SparkStringUtils: Truncated the string representation of a plan since it was too large. This behavior can be adjusted by setting 'spark.sql.debug.maxToStringFields'.\n"
     ]
    },
    {
     "name": "stdout",
     "output_type": "stream",
     "text": [
      "+-----------------+-------+--------+-------+----------+----------+--------------+----------------+---------+------------+---------+----------+--------+-------+----+--------+--------+---------+-----------------+-----+--------+------+-------------+-------+------+-------+-------------+------------+----+\n",
      "|ActualElapsedTime|AirTime|ArrDelay|ArrTime|CRSArrTime|CRSDepTime|CRSElapsedTime|CancellationCode|Cancelled|CarrierDelay|DayOfWeek|DayofMonth|DepDelay|DepTime|Dest|Distance|Diverted|FlightNum|LateAircraftDelay|Month|NASDelay|Origin|SecurityDelay|TailNum|TaxiIn|TaxiOut|UniqueCarrier|WeatherDelay|Year|\n",
      "+-----------------+-------+--------+-------+----------+----------+--------------+----------------+---------+------------+---------+----------+--------+-------+----+--------+--------+---------+-----------------+-----+--------+------+-------------+-------+------+-------+-------------+------------+----+\n",
      "|53               |32     |-8      |1642   |1650      |1545      |65            |NA              |0        |NA          |4        |10        |4       |1549   |PIT |205     |0       |209      |NA               |10   |NA      |DCA   |NA           |N443US |7     |14     |US           |NA          |2002|\n",
      "|164              |155    |-11     |1754   |1805      |1610      |175           |NA              |0        |NA          |4        |2         |0       |1610   |MCI |1072    |0       |109      |NA               |12   |NA      |MCO   |NA           |N755   |2     |7      |WN           |NA          |1999|\n",
      "+-----------------+-------+--------+-------+----------+----------+--------------+----------------+---------+------------+---------+----------+--------+-------+----+--------+--------+---------+-----------------+-----+--------+------+-------------+-------+------+-------+-------------+------------+----+\n",
      "only showing top 2 rows\n",
      "\n"
     ]
    }
   ],
   "source": [
    "df.show(2, truncate=False)"
   ]
  },
  {
   "cell_type": "markdown",
   "id": "9b3d21fa",
   "metadata": {},
   "source": [
    "### 3. Data preprocessing\n",
    "\n",
    "- generate primary key\n",
    "- Replace 'NA' with NULL\n",
    "- CamelCase -> snake_case due to insensitive nature of Cassandra"
   ]
  },
  {
   "cell_type": "code",
   "execution_count": 7,
   "id": "26fe436d",
   "metadata": {},
   "outputs": [],
   "source": [
    "# replace all 'NA' values with None\n",
    "df = df.replace('NA', None)\n",
    "\n",
    "# convert column names to match Cassandra schema\n",
    "df = df.select(\n",
    "    col(\"Year\").cast(IntegerType()).alias(\"year\"),\n",
    "    col(\"Month\").cast(IntegerType()).alias(\"month\"),\n",
    "    col(\"DayofMonth\").cast(IntegerType()).alias(\"day_of_month\"),\n",
    "    col(\"DayOfWeek\").cast(IntegerType()).alias(\"day_of_week\"),\n",
    "    col(\"DepTime\").cast(IntegerType()).alias(\"dep_time\"),\n",
    "    col(\"CRSDepTime\").cast(IntegerType()).alias(\"crs_dep_time\"),\n",
    "    col(\"ArrTime\").cast(IntegerType()).alias(\"arr_time\"),\n",
    "    col(\"CRSArrTime\").cast(IntegerType()).alias(\"crs_arr_time\"),\n",
    "    col(\"UniqueCarrier\").cast(StringType()).alias(\"unique_carrier\"),\n",
    "    col(\"FlightNum\").cast(IntegerType()).alias(\"flight_num\"),\n",
    "    col(\"TailNum\").cast(StringType()).alias(\"tail_num\"),\n",
    "    col(\"ActualElapsedTime\").cast(IntegerType()).alias(\"actual_elapsed_time\"),\n",
    "    col(\"CRSElapsedTime\").cast(IntegerType()).alias(\"crs_elapsed_time\"),\n",
    "    col(\"AirTime\").cast(IntegerType()).alias(\"air_time\"),\n",
    "    col(\"ArrDelay\").cast(IntegerType()).alias(\"arr_delay\"),\n",
    "    col(\"DepDelay\").cast(IntegerType()).alias(\"dep_delay\"),\n",
    "    col(\"Origin\").cast(StringType()).alias(\"origin\"),\n",
    "    col(\"Dest\").cast(StringType()).alias(\"dest\"),\n",
    "    col(\"Distance\").cast(IntegerType()).alias(\"distance\"),\n",
    "    col(\"TaxiIn\").cast(IntegerType()).alias(\"taxi_in\"),\n",
    "    col(\"TaxiOut\").cast(IntegerType()).alias(\"taxi_out\"),\n",
    "    col(\"Cancelled\").cast(BooleanType()).alias(\"cancelled\"),\n",
    "    col(\"CancellationCode\").cast(StringType()).alias(\"cancellation_code\"),\n",
    "    col(\"Diverted\").cast(BooleanType()).alias(\"diverted\"),\n",
    "    col(\"CarrierDelay\").cast(IntegerType()).alias(\"carrier_delay\"),\n",
    "    col(\"WeatherDelay\").cast(IntegerType()).alias(\"weather_delay\"),\n",
    "    col(\"NASDelay\").cast(IntegerType()).alias(\"nas_delay\"),\n",
    "    col(\"SecurityDelay\").cast(IntegerType()).alias(\"security_delay\"),\n",
    "    col(\"LateAircraftDelay\").cast(IntegerType()).alias(\"late_aircraft_delay\")\n",
    ")"
   ]
  },
  {
   "cell_type": "code",
   "execution_count": 8,
   "id": "e7f74b17",
   "metadata": {},
   "outputs": [
    {
     "data": {
      "text/plain": [
       "[('year', 'int'),\n",
       " ('month', 'int'),\n",
       " ('day_of_month', 'int'),\n",
       " ('day_of_week', 'int'),\n",
       " ('dep_time', 'int'),\n",
       " ('crs_dep_time', 'int'),\n",
       " ('arr_time', 'int'),\n",
       " ('crs_arr_time', 'int'),\n",
       " ('unique_carrier', 'string'),\n",
       " ('flight_num', 'int'),\n",
       " ('tail_num', 'string'),\n",
       " ('actual_elapsed_time', 'int'),\n",
       " ('crs_elapsed_time', 'int'),\n",
       " ('air_time', 'int'),\n",
       " ('arr_delay', 'int'),\n",
       " ('dep_delay', 'int'),\n",
       " ('origin', 'string'),\n",
       " ('dest', 'string'),\n",
       " ('distance', 'int'),\n",
       " ('taxi_in', 'int'),\n",
       " ('taxi_out', 'int'),\n",
       " ('cancelled', 'boolean'),\n",
       " ('cancellation_code', 'string'),\n",
       " ('diverted', 'boolean'),\n",
       " ('carrier_delay', 'int'),\n",
       " ('weather_delay', 'int'),\n",
       " ('nas_delay', 'int'),\n",
       " ('security_delay', 'int'),\n",
       " ('late_aircraft_delay', 'int')]"
      ]
     },
     "execution_count": 8,
     "metadata": {},
     "output_type": "execute_result"
    }
   ],
   "source": [
    "df.dtypes"
   ]
  },
  {
   "cell_type": "markdown",
   "id": "6ae7b4f5",
   "metadata": {},
   "source": [
    "### 5. Read data by RDD\n",
    "- Create a table\n",
    "- Load data into the table\n",
    "- Query the data from the table"
   ]
  },
  {
   "cell_type": "code",
   "execution_count": 34,
   "id": "d115423d",
   "metadata": {},
   "outputs": [],
   "source": [
    "@mt.perf_timer\n",
    "def read_from_cassandra():\n",
    "    \"\"\"Odczyt danych z Cassandra przy użyciu DataFrame\"\"\"\n",
    "    rdd = spark.sparkContext.textFile(\"data/first_million_airline.csv\")\n",
    "    header = rdd.first()\n",
    "    data = rdd.filter(lambda row: row != header).map(lambda line: line.split(\",\"))\n",
    "    print(data.count())\n",
    "    return rdd\n",
    "    \n",
    "    "
   ]
  },
  {
   "cell_type": "code",
   "execution_count": 35,
   "id": "9b0e8b59",
   "metadata": {
    "scrolled": true
   },
   "outputs": [
    {
     "name": "stderr",
     "output_type": "stream",
     "text": [
      "\r",
      "[Stage 26:>                                                         (0 + 3) / 3]\r"
     ]
    },
    {
     "name": "stdout",
     "output_type": "stream",
     "text": [
      "1000000\n",
      "Function 'read_from_cassandra' took 1.50109 seconds to execute.\n"
     ]
    },
    {
     "name": "stderr",
     "output_type": "stream",
     "text": [
      "\r",
      "                                                                                \r"
     ]
    }
   ],
   "source": [
    "rdd = read_from_cassandra()"
   ]
  },
  {
   "cell_type": "code",
   "execution_count": 36,
   "id": "bc84c21c",
   "metadata": {},
   "outputs": [],
   "source": [
    "# @mt.perf_timer\n",
    "# def write_to_cassandra_rdd():\n",
    "#     \"\"\"Zapis danych do Cassandra przy użyciu RDD\"\"\"\n",
    "#     rdd = df.rdd.map(lambda row: (\n",
    "#         row.year, row.month, row.day_of_month, row.day_of_week, row.dep_time,\n",
    "#         row.crs_dep_time, row.arr_time, row.crs_arr_time, row.unique_carrier,\n",
    "#         row.flight_num, row.tail_num, row.actual_elapsed_time, row.crs_elapsed_time,\n",
    "#         row.air_time, row.arr_delay, row.dep_delay, row.origin, row.dest, row.distance,\n",
    "#         row.taxi_in, row.taxi_out, row.cancelled, row.cancellation_code, row.diverted,\n",
    "#         row.carrier_delay, row.weather_delay, row.nas_delay, row.security_delay, row.late_aircraft_delay\n",
    "#     ))\n",
    "\n",
    "#     # Save RDD to Cassandra\n",
    "#     rdd.saveToCassandra(\n",
    "#         keyspace=\"airline_data\",\n",
    "#         table=\"flights\",\n",
    "#         columns=[\n",
    "#             \"year\", \"month\", \"day_of_month\", \"day_of_week\", \"dep_time\",\n",
    "#             \"crs_dep_time\", \"arr_time\", \"crs_arr_time\", \"unique_carrier\",\n",
    "#             \"flight_num\", \"tail_num\", \"actual_elapsed_time\", \"crs_elapsed_time\",\n",
    "#             \"air_time\", \"arr_delay\", \"dep_delay\", \"origin\", \"dest\", \"distance\",\n",
    "#             \"taxi_in\", \"taxi_out\", \"cancelled\", \"cancellation_code\", \"diverted\",\n",
    "#             \"carrier_delay\", \"weather_delay\", \"nas_delay\", \"security_delay\", \"late_aircraft_delay\"\n",
    "#         ]\n",
    "#     )\n",
    "    \n",
    "# write_to_cassandra_rdd()"
   ]
  },
  {
   "cell_type": "code",
   "execution_count": 37,
   "id": "3331e25b",
   "metadata": {},
   "outputs": [
    {
     "name": "stderr",
     "output_type": "stream",
     "text": [
      "[Stage 27:==================================================>       (7 + 1) / 8]\r"
     ]
    },
    {
     "name": "stdout",
     "output_type": "stream",
     "text": [
      "Data successfully written to Cassandra!\n",
      "Function 'load_data' took 36.86161 seconds to execute.\n"
     ]
    },
    {
     "name": "stderr",
     "output_type": "stream",
     "text": [
      "\r",
      "                                                                                \r"
     ]
    }
   ],
   "source": [
    "@mt.perf_timer\n",
    "def load_data():\n",
    "    \"\"\"Load DataFrame to Cassandra\"\"\"\n",
    "    df.write \\\n",
    "        .format(\"org.apache.spark.sql.cassandra\") \\\n",
    "        .mode(\"append\") \\\n",
    "        .options(table=\"flights\", keyspace=\"airline_data\") \\\n",
    "        .option(\"confirm.truncate\", \"true\") \\\n",
    "        .save()\n",
    "\n",
    "    print(\"Data successfully written to Cassandra!\")\n",
    "\n",
    "load_data()"
   ]
  },
  {
   "cell_type": "markdown",
   "id": "34fff2a1",
   "metadata": {
    "vscode": {
     "languageId": "r"
    }
   },
   "source": [
    "# 6. Questions"
   ]
  },
  {
   "cell_type": "markdown",
   "id": "886efe81",
   "metadata": {},
   "source": [
    "#### 6.1. When is the best time of day/day of week/time of year to fly to minimise delays?"
   ]
  },
  {
   "cell_type": "code",
   "execution_count": 11,
   "id": "fec74563",
   "metadata": {},
   "outputs": [],
   "source": [
    "# dataframe_copied with TimeOfDay\n",
    "df_cp_tod = df.withColumn(\"time_of_day\", when(col(\"dep_time\") < 1200, \"morning\") \\\n",
    "                          .when(col(\"dep_time\") < 1800, \"afternoon\") \\\n",
    "                          .otherwise(\"evening\"))\n",
    "\n",
    "@mt.perf_timer\n",
    "def give_answer_61(df, by: Literal['time_of_day', 'day_of_week', 'month']):\n",
    "    \"\"\"Aggregate delay over datetimes\"\"\"\n",
    "    df.groupBy(by) \\\n",
    "        .agg(avg(\"arr_delay\").alias(\"avg_arr_delay\")) \\\n",
    "        .orderBy(\"avg_arr_delay\") \\\n",
    "    .show()"
   ]
  },
  {
   "cell_type": "code",
   "execution_count": 12,
   "id": "70818252",
   "metadata": {},
   "outputs": [
    {
     "name": "stderr",
     "output_type": "stream",
     "text": [
      "[Stage 10:=====================>                                    (3 + 5) / 8]\r"
     ]
    },
    {
     "name": "stdout",
     "output_type": "stream",
     "text": [
      "+-----------+------------------+\n",
      "|time_of_day|     avg_arr_delay|\n",
      "+-----------+------------------+\n",
      "|    morning|2.4459977823343118|\n",
      "|  afternoon| 7.234572221453625|\n",
      "|    evening|14.833066122308884|\n",
      "+-----------+------------------+\n",
      "\n",
      "Function 'give_answer_61' took 2.16704 seconds to execute.\n"
     ]
    },
    {
     "name": "stderr",
     "output_type": "stream",
     "text": [
      "\r",
      "                                                                                \r"
     ]
    }
   ],
   "source": [
    "give_answer_61(df_cp_tod, by=\"time_of_day\")"
   ]
  },
  {
   "cell_type": "code",
   "execution_count": 13,
   "id": "49d5eeb3",
   "metadata": {},
   "outputs": [
    {
     "name": "stderr",
     "output_type": "stream",
     "text": [
      "[Stage 13:===========================================>              (6 + 2) / 8]\r"
     ]
    },
    {
     "name": "stdout",
     "output_type": "stream",
     "text": [
      "+-----------+-----------------+\n",
      "|day_of_week|    avg_arr_delay|\n",
      "+-----------+-----------------+\n",
      "|          6|4.128138964063188|\n",
      "|          2|5.877880735105949|\n",
      "|          7|6.564614209544513|\n",
      "|          1|6.790553160171357|\n",
      "|          3|7.083955847920615|\n",
      "|          4|8.947054619846986|\n",
      "|          5|9.622120266886741|\n",
      "+-----------+-----------------+\n",
      "\n",
      "Function 'give_answer_61' took 1.45406 seconds to execute.\n"
     ]
    },
    {
     "name": "stderr",
     "output_type": "stream",
     "text": [
      "\r",
      "                                                                                \r"
     ]
    }
   ],
   "source": [
    "give_answer_61(df_cp_tod, by=\"day_of_week\")"
   ]
  },
  {
   "cell_type": "code",
   "execution_count": 14,
   "id": "ca29dd20",
   "metadata": {},
   "outputs": [
    {
     "name": "stderr",
     "output_type": "stream",
     "text": [
      "\r",
      "[Stage 16:=======>                                                  (1 + 7) / 8]\r"
     ]
    },
    {
     "name": "stdout",
     "output_type": "stream",
     "text": [
      "+-----+------------------+\n",
      "|month|     avg_arr_delay|\n",
      "+-----+------------------+\n",
      "|    9| 3.431516993080203|\n",
      "|   10| 4.768709703746022|\n",
      "|   11| 5.335630161755363|\n",
      "|    4|5.4188090749041695|\n",
      "|    5| 5.445262952483169|\n",
      "|    3| 7.244244935543278|\n",
      "|    8| 7.784251111741886|\n",
      "|    2| 7.865777777777778|\n",
      "|    1|  8.46352294353986|\n",
      "|    7| 8.554130767134003|\n",
      "|    6| 9.731548185401659|\n",
      "|   12|10.481813836778588|\n",
      "+-----+------------------+\n",
      "\n",
      "Function 'give_answer_61' took 0.99428 seconds to execute.\n"
     ]
    },
    {
     "name": "stderr",
     "output_type": "stream",
     "text": [
      "\r",
      "                                                                                \r"
     ]
    }
   ],
   "source": [
    "give_answer_61(df_cp_tod, by=\"month\")"
   ]
  },
  {
   "cell_type": "markdown",
   "id": "64106c04",
   "metadata": {},
   "source": [
    "#### 6.2. Do older planes suffer more delays?"
   ]
  },
  {
   "cell_type": "code",
   "execution_count": 38,
   "id": "60f73f11",
   "metadata": {},
   "outputs": [],
   "source": [
    "@mt.perf_timer\n",
    "def give_answer_62(df):\n",
    "    \"\"\"Plot average arrival delay by year\"\"\"\n",
    "    # calc avg arrival delay by year\n",
    "    avg_delay_df = df.groupBy(\"year\") \\\n",
    "        .agg(avg(\"arr_delay\").alias(\"avg_arr_delay\")) \\\n",
    "        .orderBy(\"year\")\n",
    "    \n",
    "    # plot pandas df \n",
    "    pandas_df = avg_delay_df.toPandas()\n",
    "    return pandas_df"
   ]
  },
  {
   "cell_type": "code",
   "execution_count": 39,
   "id": "262d4255",
   "metadata": {},
   "outputs": [
    {
     "name": "stderr",
     "output_type": "stream",
     "text": [
      "                                                                                \r"
     ]
    },
    {
     "name": "stdout",
     "output_type": "stream",
     "text": [
      "Function 'give_answer_62' took 2.78905 seconds to execute.\n"
     ]
    },
    {
     "data": {
      "image/png": "[encoded data removed]",
      "text/plain": [
       "<Figure size 1000x600 with 1 Axes>"
      ]
     },
     "metadata": {},
     "output_type": "display_data"
    }
   ],
   "source": [
    "pandas_df = give_answer_62(df)\n",
    "x = pandas_df[\"year\"]\n",
    "y = pandas_df[\"avg_arr_delay\"]\n",
    "\n",
    "plt.figure(figsize=(10, 6))\n",
    "plt.bar(x, y, color=\"blue\", alpha=0.7, label=\"Average Delay\")\n",
    "\n",
    "# add a trend line using numpy.polyfit\n",
    "z = np.polyfit(x, y, 1)\n",
    "p = np.poly1d(z)\n",
    "plt.plot(x, p(x), color=\"red\", linestyle=\"--\", label=\"Trend Line\")\n",
    "\n",
    "plt.title(\"Average Arrival Delay by Year\")\n",
    "plt.xlabel(\"Year\")\n",
    "plt.ylabel(\"Average Arrival Delay (minutes)\")\n",
    "plt.xticks(rotation=45)\n",
    "plt.legend()\n",
    "plt.tight_layout()\n",
    "plt.show()"
   ]
  },
  {
   "cell_type": "markdown",
   "id": "a4863b2b",
   "metadata": {},
   "source": [
    "#### 6.3. How does the number of people flying between different locations change over time?"
   ]
  },
  {
   "cell_type": "code",
   "execution_count": 17,
   "id": "f32a6f95",
   "metadata": {},
   "outputs": [],
   "source": [
    "@mt.perf_timer\n",
    "def give_answer_63(df):\n",
    "    \"\"\"Aggregate flight count over years and months\"\"\"\n",
    "    # group by year, month, origin, and destination\n",
    "    flight_trends = df.groupBy(\"year\", \"month\", \"origin\", \"dest\") \\\n",
    "                    .agg(count(\"*\").alias(\"flight_count\"))\n",
    "\n",
    "    # sort to observe trends\n",
    "    flight_trends = flight_trends.orderBy(\"year\", \"month\")\n",
    "    flight_trends.show()"
   ]
  },
  {
   "cell_type": "code",
   "execution_count": 18,
   "id": "a5c908be",
   "metadata": {},
   "outputs": [
    {
     "name": "stderr",
     "output_type": "stream",
     "text": [
      "\r",
      "[Stage 27:>                                                         (0 + 8) / 8]\r"
     ]
    },
    {
     "name": "stdout",
     "output_type": "stream",
     "text": [
      "+----+-----+------+----+------------+\n",
      "|year|month|origin|dest|flight_count|\n",
      "+----+-----+------+----+------------+\n",
      "|1987|   10|   CLE| BOS|           5|\n",
      "|1987|   10|   ICT| PHX|           2|\n",
      "|1987|   10|   SAN| MSP|           1|\n",
      "|1987|   10|   LAX| SFO|          10|\n",
      "|1987|   10|   PIA| STL|           1|\n",
      "|1987|   10|   TPA| BDL|           1|\n",
      "|1987|   10|   BOS| DCA|          13|\n",
      "|1987|   10|   JAX| ATL|           3|\n",
      "|1987|   10|   MEM| ATL|           3|\n",
      "|1987|   10|   DFW| SNA|           2|\n",
      "|1987|   10|   SFO| TUS|           1|\n",
      "|1987|   10|   BTV| SYR|           1|\n",
      "|1987|   10|   OKC| MCI|           3|\n",
      "|1987|   10|   ATL| BNA|           2|\n",
      "|1987|   10|   SJC| LAX|           8|\n",
      "|1987|   10|   ATL| SFO|           3|\n",
      "|1987|   10|   LAS| OAK|           4|\n",
      "|1987|   10|   BTR| PNS|           2|\n",
      "|1987|   10|   DEN| IAD|           2|\n",
      "|1987|   10|   FLL| ORD|           4|\n",
      "+----+-----+------+----+------------+\n",
      "only showing top 20 rows\n",
      "\n",
      "Function 'give_answer_63' took 2.32598 seconds to execute.\n"
     ]
    },
    {
     "name": "stderr",
     "output_type": "stream",
     "text": [
      "\r",
      "                                                                                \r"
     ]
    }
   ],
   "source": [
    "give_answer_63(df)"
   ]
  },
  {
   "cell_type": "markdown",
   "id": "680f782b",
   "metadata": {},
   "source": [
    "#### 6.4. How well does weather predict plane delays?"
   ]
  },
  {
   "cell_type": "code",
   "execution_count": 19,
   "id": "fafc9315",
   "metadata": {},
   "outputs": [],
   "source": [
    "@mt.perf_timer\n",
    "def give_answer_64(df):\n",
    "    \"\"\"Measure correlation between weather delay and arrival delay\"\"\"\n",
    "    # replace NA as no delay\n",
    "    df = df.fillna({\"weather_delay\": 0})\n",
    "\n",
    "    # calc correlation\n",
    "    correlation = df.stat.corr(\"weather_delay\", \"arr_delay\")\n",
    "    print(f\"Correlation between weather_delay and arr_delay: {correlation}\")"
   ]
  },
  {
   "cell_type": "code",
   "execution_count": 20,
   "id": "53747f8e",
   "metadata": {},
   "outputs": [
    {
     "name": "stdout",
     "output_type": "stream",
     "text": [
      "Correlation between weather_delay and arr_delay: 0.18311052728498503\n",
      "Function 'give_answer_64' took 0.97382 seconds to execute.\n"
     ]
    },
    {
     "name": "stderr",
     "output_type": "stream",
     "text": [
      "\r",
      "[Stage 30:=============================>                            (4 + 4) / 8]\r",
      "\r",
      "                                                                                \r"
     ]
    }
   ],
   "source": [
    "give_answer_64(df)"
   ]
  },
  {
   "cell_type": "markdown",
   "id": "55f2613a",
   "metadata": {},
   "source": [
    "#### 6.5. Can you detect cascading failures as delays in one airport create delays in others? Are there critical links in the system?"
   ]
  },
  {
   "cell_type": "code",
   "execution_count": 21,
   "id": "0011f410",
   "metadata": {},
   "outputs": [],
   "source": [
    "@mt.perf_timer\n",
    "def give_answer_65(df):\n",
    "    \"\"\"Try to find a correlation between arrival and departure delays for flights exiting the same airport\"\"\"\n",
    "    joined_df = df.alias(\"a\").join(\n",
    "        df.alias(\"b\"),\n",
    "        col(\"a.dest\") == col(\"b.origin\"),\n",
    "        \"inner\"\n",
    "    ).select(\n",
    "        col(\"a.origin\").alias(\"origin_airport\"),\n",
    "        col(\"a.dest\").alias(\"connecting_airport\"),\n",
    "        col(\"b.dest\").alias(\"final_airport\"),\n",
    "        col(\"a.arr_delay\").alias(\"arrival_delay\"),\n",
    "        col(\"b.dep_delay\").alias(\"departure_delay\")\n",
    "    )\n",
    "\n",
    "    # correlation\n",
    "    correlation = joined_df.stat.corr(\"arrival_delay\", \"departure_delay\")\n",
    "    print(f\"Correlation between arrival and departure delays: {correlation:.4f}\")"
   ]
  },
  {
   "cell_type": "code",
   "execution_count": 22,
   "id": "5fb5ffec",
   "metadata": {},
   "outputs": [
    {
     "name": "stderr",
     "output_type": "stream",
     "text": [
      "ERROR:root:KeyboardInterrupt while sending command.                 (0 + 8) / 8]\n",
      "Traceback (most recent call last):\n",
      "  File \"/home/tomek/spark/python/lib/py4j-0.10.9.7-src.zip/py4j/java_gateway.py\", line 1038, in send_command\n",
      "    response = connection.send_command(command)\n",
      "               ^^^^^^^^^^^^^^^^^^^^^^^^^^^^^^^^\n",
      "  File \"/home/tomek/spark/python/lib/py4j-0.10.9.7-src.zip/py4j/clientserver.py\", line 511, in send_command\n",
      "    answer = smart_decode(self.stream.readline()[:-1])\n",
      "                          ^^^^^^^^^^^^^^^^^^^^^^\n",
      "  File \"/usr/lib/python3.12/socket.py\", line 707, in readinto\n",
      "    return self._sock.recv_into(b)\n",
      "           ^^^^^^^^^^^^^^^^^^^^^^^\n",
      "KeyboardInterrupt\n"
     ]
    },
    {
     "ename": "KeyboardInterrupt",
     "evalue": "",
     "output_type": "error",
     "traceback": [
      "\u001b[0;31m---------------------------------------------------------------------------\u001b[0m",
      "\u001b[0;31mKeyboardInterrupt\u001b[0m                         Traceback (most recent call last)",
      "Cell \u001b[0;32mIn[22], line 1\u001b[0m\n\u001b[0;32m----> 1\u001b[0m \u001b[43mgive_answer_65\u001b[49m\u001b[43m(\u001b[49m\u001b[43mdf\u001b[49m\u001b[43m)\u001b[49m\n",
      "File \u001b[0;32m~/programming/studies/sem2/ztbd/measurment_tools.py:17\u001b[0m, in \u001b[0;36mperf_timer.<locals>.wrapper\u001b[0;34m(*args, **kwargs)\u001b[0m\n\u001b[1;32m     13\u001b[0m \u001b[38;5;250m\u001b[39m\u001b[38;5;124;03m\"\"\"\u001b[39;00m\n\u001b[1;32m     14\u001b[0m \u001b[38;5;124;03mWrapper function that measures the time taken by the decorated function.\u001b[39;00m\n\u001b[1;32m     15\u001b[0m \u001b[38;5;124;03m\"\"\"\u001b[39;00m\n\u001b[1;32m     16\u001b[0m start \u001b[38;5;241m=\u001b[39m perf_counter()\n\u001b[0;32m---> 17\u001b[0m result \u001b[38;5;241m=\u001b[39m \u001b[43mfunc\u001b[49m\u001b[43m(\u001b[49m\u001b[38;5;241;43m*\u001b[39;49m\u001b[43margs\u001b[49m\u001b[43m,\u001b[49m\u001b[43m \u001b[49m\u001b[38;5;241;43m*\u001b[39;49m\u001b[38;5;241;43m*\u001b[39;49m\u001b[43mkwargs\u001b[49m\u001b[43m)\u001b[49m\n\u001b[1;32m     18\u001b[0m end \u001b[38;5;241m=\u001b[39m perf_counter()\n\u001b[1;32m     19\u001b[0m total_time_sec \u001b[38;5;241m=\u001b[39m end \u001b[38;5;241m-\u001b[39m start\n",
      "Cell \u001b[0;32mIn[21], line 17\u001b[0m, in \u001b[0;36mgive_answer_65\u001b[0;34m(df)\u001b[0m\n\u001b[1;32m      4\u001b[0m joined_df \u001b[38;5;241m=\u001b[39m df\u001b[38;5;241m.\u001b[39malias(\u001b[38;5;124m\"\u001b[39m\u001b[38;5;124ma\u001b[39m\u001b[38;5;124m\"\u001b[39m)\u001b[38;5;241m.\u001b[39mjoin(\n\u001b[1;32m      5\u001b[0m     df\u001b[38;5;241m.\u001b[39malias(\u001b[38;5;124m\"\u001b[39m\u001b[38;5;124mb\u001b[39m\u001b[38;5;124m\"\u001b[39m),\n\u001b[1;32m      6\u001b[0m     col(\u001b[38;5;124m\"\u001b[39m\u001b[38;5;124ma.dest\u001b[39m\u001b[38;5;124m\"\u001b[39m) \u001b[38;5;241m==\u001b[39m col(\u001b[38;5;124m\"\u001b[39m\u001b[38;5;124mb.origin\u001b[39m\u001b[38;5;124m\"\u001b[39m),\n\u001b[0;32m   (...)\u001b[0m\n\u001b[1;32m     13\u001b[0m     col(\u001b[38;5;124m\"\u001b[39m\u001b[38;5;124mb.dep_delay\u001b[39m\u001b[38;5;124m\"\u001b[39m)\u001b[38;5;241m.\u001b[39malias(\u001b[38;5;124m\"\u001b[39m\u001b[38;5;124mdeparture_delay\u001b[39m\u001b[38;5;124m\"\u001b[39m)\n\u001b[1;32m     14\u001b[0m )\n\u001b[1;32m     16\u001b[0m \u001b[38;5;66;03m# correlation\u001b[39;00m\n\u001b[0;32m---> 17\u001b[0m correlation \u001b[38;5;241m=\u001b[39m \u001b[43mjoined_df\u001b[49m\u001b[38;5;241;43m.\u001b[39;49m\u001b[43mstat\u001b[49m\u001b[38;5;241;43m.\u001b[39;49m\u001b[43mcorr\u001b[49m\u001b[43m(\u001b[49m\u001b[38;5;124;43m\"\u001b[39;49m\u001b[38;5;124;43marrival_delay\u001b[39;49m\u001b[38;5;124;43m\"\u001b[39;49m\u001b[43m,\u001b[49m\u001b[43m \u001b[49m\u001b[38;5;124;43m\"\u001b[39;49m\u001b[38;5;124;43mdeparture_delay\u001b[39;49m\u001b[38;5;124;43m\"\u001b[39;49m\u001b[43m)\u001b[49m\n\u001b[1;32m     18\u001b[0m \u001b[38;5;28mprint\u001b[39m(\u001b[38;5;124mf\u001b[39m\u001b[38;5;124m\"\u001b[39m\u001b[38;5;124mCorrelation between arrival and departure delays: \u001b[39m\u001b[38;5;132;01m{\u001b[39;00mcorrelation\u001b[38;5;132;01m:\u001b[39;00m\u001b[38;5;124m.4f\u001b[39m\u001b[38;5;132;01m}\u001b[39;00m\u001b[38;5;124m\"\u001b[39m)\n",
      "File \u001b[0;32m~/spark/python/pyspark/sql/dataframe.py:5927\u001b[0m, in \u001b[0;36mDataFrameStatFunctions.corr\u001b[0;34m(self, col1, col2, method)\u001b[0m\n\u001b[1;32m   5926\u001b[0m \u001b[38;5;28;01mdef\u001b[39;00m \u001b[38;5;21mcorr\u001b[39m(\u001b[38;5;28mself\u001b[39m, col1: \u001b[38;5;28mstr\u001b[39m, col2: \u001b[38;5;28mstr\u001b[39m, method: Optional[\u001b[38;5;28mstr\u001b[39m] \u001b[38;5;241m=\u001b[39m \u001b[38;5;28;01mNone\u001b[39;00m) \u001b[38;5;241m-\u001b[39m\u001b[38;5;241m>\u001b[39m \u001b[38;5;28mfloat\u001b[39m:\n\u001b[0;32m-> 5927\u001b[0m     \u001b[38;5;28;01mreturn\u001b[39;00m \u001b[38;5;28;43mself\u001b[39;49m\u001b[38;5;241;43m.\u001b[39;49m\u001b[43mdf\u001b[49m\u001b[38;5;241;43m.\u001b[39;49m\u001b[43mcorr\u001b[49m\u001b[43m(\u001b[49m\u001b[43mcol1\u001b[49m\u001b[43m,\u001b[49m\u001b[43m \u001b[49m\u001b[43mcol2\u001b[49m\u001b[43m,\u001b[49m\u001b[43m \u001b[49m\u001b[43mmethod\u001b[49m\u001b[43m)\u001b[49m\n",
      "File \u001b[0;32m~/spark/python/pyspark/sql/dataframe.py:4903\u001b[0m, in \u001b[0;36mDataFrame.corr\u001b[0;34m(self, col1, col2, method)\u001b[0m\n\u001b[1;32m   4898\u001b[0m \u001b[38;5;28;01mif\u001b[39;00m \u001b[38;5;129;01mnot\u001b[39;00m method \u001b[38;5;241m==\u001b[39m \u001b[38;5;124m\"\u001b[39m\u001b[38;5;124mpearson\u001b[39m\u001b[38;5;124m\"\u001b[39m:\n\u001b[1;32m   4899\u001b[0m     \u001b[38;5;28;01mraise\u001b[39;00m PySparkValueError(\n\u001b[1;32m   4900\u001b[0m         error_class\u001b[38;5;241m=\u001b[39m\u001b[38;5;124m\"\u001b[39m\u001b[38;5;124mVALUE_NOT_PEARSON\u001b[39m\u001b[38;5;124m\"\u001b[39m,\n\u001b[1;32m   4901\u001b[0m         message_parameters\u001b[38;5;241m=\u001b[39m{\u001b[38;5;124m\"\u001b[39m\u001b[38;5;124marg_name\u001b[39m\u001b[38;5;124m\"\u001b[39m: \u001b[38;5;124m\"\u001b[39m\u001b[38;5;124mmethod\u001b[39m\u001b[38;5;124m\"\u001b[39m, \u001b[38;5;124m\"\u001b[39m\u001b[38;5;124marg_value\u001b[39m\u001b[38;5;124m\"\u001b[39m: method},\n\u001b[1;32m   4902\u001b[0m     )\n\u001b[0;32m-> 4903\u001b[0m \u001b[38;5;28;01mreturn\u001b[39;00m \u001b[38;5;28;43mself\u001b[39;49m\u001b[38;5;241;43m.\u001b[39;49m\u001b[43m_jdf\u001b[49m\u001b[38;5;241;43m.\u001b[39;49m\u001b[43mstat\u001b[49m\u001b[43m(\u001b[49m\u001b[43m)\u001b[49m\u001b[38;5;241;43m.\u001b[39;49m\u001b[43mcorr\u001b[49m\u001b[43m(\u001b[49m\u001b[43mcol1\u001b[49m\u001b[43m,\u001b[49m\u001b[43m \u001b[49m\u001b[43mcol2\u001b[49m\u001b[43m,\u001b[49m\u001b[43m \u001b[49m\u001b[43mmethod\u001b[49m\u001b[43m)\u001b[49m\n",
      "File \u001b[0;32m~/spark/python/lib/py4j-0.10.9.7-src.zip/py4j/java_gateway.py:1321\u001b[0m, in \u001b[0;36mJavaMember.__call__\u001b[0;34m(self, *args)\u001b[0m\n\u001b[1;32m   1314\u001b[0m args_command, temp_args \u001b[38;5;241m=\u001b[39m \u001b[38;5;28mself\u001b[39m\u001b[38;5;241m.\u001b[39m_build_args(\u001b[38;5;241m*\u001b[39margs)\n\u001b[1;32m   1316\u001b[0m command \u001b[38;5;241m=\u001b[39m proto\u001b[38;5;241m.\u001b[39mCALL_COMMAND_NAME \u001b[38;5;241m+\u001b[39m\\\n\u001b[1;32m   1317\u001b[0m     \u001b[38;5;28mself\u001b[39m\u001b[38;5;241m.\u001b[39mcommand_header \u001b[38;5;241m+\u001b[39m\\\n\u001b[1;32m   1318\u001b[0m     args_command \u001b[38;5;241m+\u001b[39m\\\n\u001b[1;32m   1319\u001b[0m     proto\u001b[38;5;241m.\u001b[39mEND_COMMAND_PART\n\u001b[0;32m-> 1321\u001b[0m answer \u001b[38;5;241m=\u001b[39m \u001b[38;5;28;43mself\u001b[39;49m\u001b[38;5;241;43m.\u001b[39;49m\u001b[43mgateway_client\u001b[49m\u001b[38;5;241;43m.\u001b[39;49m\u001b[43msend_command\u001b[49m\u001b[43m(\u001b[49m\u001b[43mcommand\u001b[49m\u001b[43m)\u001b[49m\n\u001b[1;32m   1322\u001b[0m return_value \u001b[38;5;241m=\u001b[39m get_return_value(\n\u001b[1;32m   1323\u001b[0m     answer, \u001b[38;5;28mself\u001b[39m\u001b[38;5;241m.\u001b[39mgateway_client, \u001b[38;5;28mself\u001b[39m\u001b[38;5;241m.\u001b[39mtarget_id, \u001b[38;5;28mself\u001b[39m\u001b[38;5;241m.\u001b[39mname)\n\u001b[1;32m   1325\u001b[0m \u001b[38;5;28;01mfor\u001b[39;00m temp_arg \u001b[38;5;129;01min\u001b[39;00m temp_args:\n",
      "File \u001b[0;32m~/spark/python/lib/py4j-0.10.9.7-src.zip/py4j/java_gateway.py:1038\u001b[0m, in \u001b[0;36mGatewayClient.send_command\u001b[0;34m(self, command, retry, binary)\u001b[0m\n\u001b[1;32m   1036\u001b[0m connection \u001b[38;5;241m=\u001b[39m \u001b[38;5;28mself\u001b[39m\u001b[38;5;241m.\u001b[39m_get_connection()\n\u001b[1;32m   1037\u001b[0m \u001b[38;5;28;01mtry\u001b[39;00m:\n\u001b[0;32m-> 1038\u001b[0m     response \u001b[38;5;241m=\u001b[39m \u001b[43mconnection\u001b[49m\u001b[38;5;241;43m.\u001b[39;49m\u001b[43msend_command\u001b[49m\u001b[43m(\u001b[49m\u001b[43mcommand\u001b[49m\u001b[43m)\u001b[49m\n\u001b[1;32m   1039\u001b[0m     \u001b[38;5;28;01mif\u001b[39;00m binary:\n\u001b[1;32m   1040\u001b[0m         \u001b[38;5;28;01mreturn\u001b[39;00m response, \u001b[38;5;28mself\u001b[39m\u001b[38;5;241m.\u001b[39m_create_connection_guard(connection)\n",
      "File \u001b[0;32m~/spark/python/lib/py4j-0.10.9.7-src.zip/py4j/clientserver.py:511\u001b[0m, in \u001b[0;36mClientServerConnection.send_command\u001b[0;34m(self, command)\u001b[0m\n\u001b[1;32m    509\u001b[0m \u001b[38;5;28;01mtry\u001b[39;00m:\n\u001b[1;32m    510\u001b[0m     \u001b[38;5;28;01mwhile\u001b[39;00m \u001b[38;5;28;01mTrue\u001b[39;00m:\n\u001b[0;32m--> 511\u001b[0m         answer \u001b[38;5;241m=\u001b[39m smart_decode(\u001b[38;5;28;43mself\u001b[39;49m\u001b[38;5;241;43m.\u001b[39;49m\u001b[43mstream\u001b[49m\u001b[38;5;241;43m.\u001b[39;49m\u001b[43mreadline\u001b[49m\u001b[43m(\u001b[49m\u001b[43m)\u001b[49m[:\u001b[38;5;241m-\u001b[39m\u001b[38;5;241m1\u001b[39m])\n\u001b[1;32m    512\u001b[0m         logger\u001b[38;5;241m.\u001b[39mdebug(\u001b[38;5;124m\"\u001b[39m\u001b[38;5;124mAnswer received: \u001b[39m\u001b[38;5;132;01m{0}\u001b[39;00m\u001b[38;5;124m\"\u001b[39m\u001b[38;5;241m.\u001b[39mformat(answer))\n\u001b[1;32m    513\u001b[0m         \u001b[38;5;66;03m# Happens when a the other end is dead. There might be an empty\u001b[39;00m\n\u001b[1;32m    514\u001b[0m         \u001b[38;5;66;03m# answer before the socket raises an error.\u001b[39;00m\n",
      "File \u001b[0;32m/usr/lib/python3.12/socket.py:707\u001b[0m, in \u001b[0;36mSocketIO.readinto\u001b[0;34m(self, b)\u001b[0m\n\u001b[1;32m    705\u001b[0m \u001b[38;5;28;01mwhile\u001b[39;00m \u001b[38;5;28;01mTrue\u001b[39;00m:\n\u001b[1;32m    706\u001b[0m     \u001b[38;5;28;01mtry\u001b[39;00m:\n\u001b[0;32m--> 707\u001b[0m         \u001b[38;5;28;01mreturn\u001b[39;00m \u001b[38;5;28;43mself\u001b[39;49m\u001b[38;5;241;43m.\u001b[39;49m\u001b[43m_sock\u001b[49m\u001b[38;5;241;43m.\u001b[39;49m\u001b[43mrecv_into\u001b[49m\u001b[43m(\u001b[49m\u001b[43mb\u001b[49m\u001b[43m)\u001b[49m\n\u001b[1;32m    708\u001b[0m     \u001b[38;5;28;01mexcept\u001b[39;00m timeout:\n\u001b[1;32m    709\u001b[0m         \u001b[38;5;28mself\u001b[39m\u001b[38;5;241m.\u001b[39m_timeout_occurred \u001b[38;5;241m=\u001b[39m \u001b[38;5;28;01mTrue\u001b[39;00m\n",
      "\u001b[0;31mKeyboardInterrupt\u001b[0m: "
     ]
    }
   ],
   "source": [
    "give_answer_65(df)"
   ]
  },
  {
   "cell_type": "code",
   "execution_count": null,
   "id": "0d0ff43d",
   "metadata": {},
   "outputs": [],
   "source": []
  }
 ],
 "metadata": {
  "kernelspec": {
   "display_name": "Python 3 (ipykernel)",
   "language": "python",
   "name": "python3"
  },
  "language_info": {
   "codemirror_mode": {
    "name": "ipython",
    "version": 3
   },
   "file_extension": ".py",
   "mimetype": "text/x-python",
   "name": "python",
   "nbconvert_exporter": "python",
   "pygments_lexer": "ipython3",
   "version": "3.12.3"
  }
 },
 "nbformat": 4,
 "nbformat_minor": 5
}
