{
 "cells": [
  {
   "cell_type": "code",
   "execution_count": null,
   "id": "initial_id",
   "metadata": {
    "collapsed": true
   },
   "outputs": [],
   "source": [
    "!pip list | grep spark"
   ]
  },
  {
   "cell_type": "code",
   "execution_count": null,
   "id": "9b3056a8",
   "metadata": {},
   "outputs": [],
   "source": [
    "import findspark\n",
    "\n",
    "findspark.init()"
   ]
  },
  {
   "cell_type": "code",
   "execution_count": null,
   "id": "e8b1338a",
   "metadata": {},
   "outputs": [],
   "source": [
    "import pyspark\n",
    "from pyspark.sql import SparkSession\n",
    "\n",
    "spark = SparkSession.builder.appName(\"test\").getOrCreate()\n",
    "df = spark.createDataFrame([(1, \"Alice\"), (2, \"Bob\")], [\"id\", \"name\"])\n",
    "df.show()"
   ]
  },
  {
   "cell_type": "code",
   "execution_count": null,
   "id": "e5cd0db3",
   "metadata": {},
   "outputs": [],
   "source": [
    "from pyspark import SparkConf\n",
    "from pyspark.sql import SparkSession\n",
    "\n",
    "# Create a SparkConf object\n",
    "conf = SparkConf().setAppName(\"HBaseIntegration\")\n",
    "\n",
    "# Add the HBase connector JAR\n",
    "conf.set(\"spark.jars.packages\", \"org.apache.hbase.connectors.spark:hbase-spark:2.4.8\")\n",
    "\n",
    "# Create a Spark session with the HBase configurations\n",
    "spark = SparkSession.builder.config(conf=conf).getOrCreate()\n",
    "\n",
    "# Set HBase connection properties\n",
    "hbase_conf = {\n",
    "    \"spark.hadoop.hbase.zookeeper.quorum\": \"localhost\",  # Change this to your HBase Zookeeper address\n",
    "    \"spark.hadoop.hbase.zookeeper.property.clientPort\": \"2181\",  # Default Zookeeper client port\n",
    "    \"spark.hadoop.hbase.master\": \"localhost:16000\",  # HBase master host and port\n",
    "}\n",
    "\n",
    "# Set the configuration for the session\n",
    "for key, value in hbase_conf.items():\n",
    "    spark.conf.set(key, value)\n",
    "\n",
    "# Query from HBase Table (e.g., `my_table`)\n",
    "df = (\n",
    "    spark.read.format(\"org.apache.hadoop.hbase.spark\")\n",
    "    .option(\"hbase.table\", \"my_table\")\n",
    "    .option(\"hbase.columns.mapping\", \"rowkey STRING :key, cf:name STRING\")\n",
    "    .load()\n",
    ")\n",
    "\n",
    "# Show the result\n",
    "df.show()"
   ]
  },
  {
   "cell_type": "code",
   "execution_count": null,
   "id": "eb7ae90a",
   "metadata": {},
   "outputs": [],
   "source": []
  },
  {
   "cell_type": "code",
   "execution_count": null,
   "id": "164d92f2",
   "metadata": {},
   "outputs": [],
   "source": []
  },
  {
   "cell_type": "code",
   "execution_count": null,
   "id": "e241c87d",
   "metadata": {},
   "outputs": [],
   "source": []
  },
  {
   "cell_type": "code",
   "execution_count": null,
   "id": "6886253a",
   "metadata": {},
   "outputs": [],
   "source": []
  }
 ],
 "metadata": {
  "kernelspec": {
   "display_name": "Python 3 (ipykernel)",
   "language": "python",
   "name": "python3"
  },
  "language_info": {
   "codemirror_mode": {
    "name": "ipython",
    "version": 3
   },
   "file_extension": ".py",
   "mimetype": "text/x-python",
   "name": "python",
   "nbconvert_exporter": "python",
   "pygments_lexer": "ipython3",
   "version": "3.12.3"
  }
 },
 "nbformat": 4,
 "nbformat_minor": 5
}
