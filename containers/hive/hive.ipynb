{
 "cells": [
  {
   "cell_type": "code",
   "execution_count": 1,
   "id": "94e78946",
   "metadata": {},
   "outputs": [],
   "source": [
    "import findspark\n",
    "findspark.init()"
   ]
  },
  {
   "cell_type": "code",
   "execution_count": 3,
   "id": "58950d65",
   "metadata": {},
   "outputs": [
    {
     "data": {
      "text/plain": [
       "''"
      ]
     },
     "execution_count": 3,
     "metadata": {},
     "output_type": "execute_result"
    }
   ],
   "source": [
    "import os\n",
    "# Ustaw katalog z konfiguracją Hadoop/Hive (dostosuj ścieżkę jeśli inna)\n",
    "os.environ[\"HADOOP_CONF_DIR\"] = \"/opt/hive-3.1.3/conf\"\n",
    "\n",
    "from pyspark.sql import SparkSession\n",
    "\n",
    "spark = (\n",
    "  SparkSession.builder\n",
    "    .appName(\"AirlineDemo\")\n",
    "    .enableHiveSupport()\n",
    "    .getOrCreate()\n",
    ")\n",
    ";"
   ]
  },
  {
   "cell_type": "code",
   "execution_count": 8,
   "id": "6654abf6",
   "metadata": {},
   "outputs": [
    {
     "name": "stdout",
     "output_type": "stream",
     "text": [
      "hive\n"
     ]
    }
   ],
   "source": [
    "print(spark.conf.get(\"spark.sql.catalogImplementation\"))"
   ]
  },
  {
   "cell_type": "code",
   "execution_count": 3,
   "id": "f88bf645",
   "metadata": {},
   "outputs": [
    {
     "name": "stdout",
     "output_type": "stream",
     "text": [
      "hdfs://localhost:9000\n"
     ]
    }
   ],
   "source": [
    "# What default filesystem does Spark think it should talk to?\n",
    "print(spark.sparkContext._jsc.hadoopConfiguration().get(\"fs.defaultFS\"))\n"
   ]
  },
  {
   "cell_type": "code",
   "execution_count": 9,
   "id": "2397838d",
   "metadata": {},
   "outputs": [
    {
     "name": "stdout",
     "output_type": "stream",
     "text": [
      "+---------+------------+-----------+\n",
      "|namespace|   tableName|isTemporary|\n",
      "+---------+------------+-----------+\n",
      "|  default|airline_data|      false|\n",
      "+---------+------------+-----------+\n",
      "\n"
     ]
    }
   ],
   "source": [
    "spark.sql(\"SHOW TABLES IN default\").show()\n",
    "# spark.sql(\"SELECT * FROM airline_data LIMIT 10\").show()"
   ]
  },
  {
   "cell_type": "code",
   "execution_count": 14,
   "id": "fb9acd66",
   "metadata": {},
   "outputs": [
    {
     "name": "stderr",
     "output_type": "stream",
     "text": [
      "ERROR:root:Exception while sending command.\n",
      "Traceback (most recent call last):\n",
      "  File \"/home/hduser/spark/python/lib/py4j-0.10.9.7-src.zip/py4j/clientserver.py\", line 516, in send_command\n",
      "    raise Py4JNetworkError(\"Answer from Java side is empty\")\n",
      "py4j.protocol.Py4JNetworkError: Answer from Java side is empty\n",
      "\n",
      "During handling of the above exception, another exception occurred:\n",
      "\n",
      "Traceback (most recent call last):\n",
      "  File \"/home/hduser/spark/python/lib/py4j-0.10.9.7-src.zip/py4j/java_gateway.py\", line 1038, in send_command\n",
      "    response = connection.send_command(command)\n",
      "               ^^^^^^^^^^^^^^^^^^^^^^^^^^^^^^^^\n",
      "  File \"/home/hduser/spark/python/lib/py4j-0.10.9.7-src.zip/py4j/clientserver.py\", line 539, in send_command\n",
      "    raise Py4JNetworkError(\n",
      "py4j.protocol.Py4JNetworkError: Error while sending or receiving\n"
     ]
    },
    {
     "ename": "Py4JError",
     "evalue": "SparkSession does not exist in the JVM",
     "output_type": "error",
     "traceback": [
      "\u001b[31m---------------------------------------------------------------------------\u001b[39m",
      "\u001b[31mPy4JError\u001b[39m                                 Traceback (most recent call last)",
      "\u001b[36mCell\u001b[39m\u001b[36m \u001b[39m\u001b[32mIn[14]\u001b[39m\u001b[32m, line 1\u001b[39m\n\u001b[32m----> \u001b[39m\u001b[32m1\u001b[39m \u001b[43mspark\u001b[49m\u001b[43m.\u001b[49m\u001b[43mstop\u001b[49m\u001b[43m(\u001b[49m\u001b[43m)\u001b[49m\n",
      "\u001b[36mFile \u001b[39m\u001b[32m~/spark/python/pyspark/sql/session.py:1602\u001b[39m, in \u001b[36mSparkSession.stop\u001b[39m\u001b[34m(self)\u001b[39m\n\u001b[32m   1600\u001b[39m \u001b[38;5;66;03m# We should clean the default session up. See SPARK-23228.\u001b[39;00m\n\u001b[32m   1601\u001b[39m \u001b[38;5;28;01massert\u001b[39;00m \u001b[38;5;28mself\u001b[39m._jvm \u001b[38;5;129;01mis\u001b[39;00m \u001b[38;5;129;01mnot\u001b[39;00m \u001b[38;5;28;01mNone\u001b[39;00m\n\u001b[32m-> \u001b[39m\u001b[32m1602\u001b[39m \u001b[38;5;28;43mself\u001b[39;49m\u001b[43m.\u001b[49m\u001b[43m_jvm\u001b[49m\u001b[43m.\u001b[49m\u001b[43mSparkSession\u001b[49m.clearDefaultSession()\n\u001b[32m   1603\u001b[39m \u001b[38;5;28mself\u001b[39m._jvm.SparkSession.clearActiveSession()\n\u001b[32m   1604\u001b[39m SparkSession._instantiatedSession = \u001b[38;5;28;01mNone\u001b[39;00m\n",
      "\u001b[36mFile \u001b[39m\u001b[32m~/spark/python/lib/py4j-0.10.9.7-src.zip/py4j/java_gateway.py:1725\u001b[39m, in \u001b[36mJVMView.__getattr__\u001b[39m\u001b[34m(self, name)\u001b[39m\n\u001b[32m   1722\u001b[39m _, error_message = get_error_message(answer)\n\u001b[32m   1723\u001b[39m message = compute_exception_message(\n\u001b[32m   1724\u001b[39m     \u001b[33m\"\u001b[39m\u001b[38;5;132;01m{0}\u001b[39;00m\u001b[33m does not exist in the JVM\u001b[39m\u001b[33m\"\u001b[39m.format(name), error_message)\n\u001b[32m-> \u001b[39m\u001b[32m1725\u001b[39m \u001b[38;5;28;01mraise\u001b[39;00m Py4JError(message)\n",
      "\u001b[31mPy4JError\u001b[39m: SparkSession does not exist in the JVM"
     ]
    }
   ],
   "source": [
    "spark.stop()"
   ]
  },
  {
   "cell_type": "code",
   "execution_count": 4,
   "id": "b2578737",
   "metadata": {},
   "outputs": [
    {
     "name": "stdout",
     "output_type": "stream",
     "text": [
      "+-----------------+---------+-------+\n",
      "|         col_name|data_type|comment|\n",
      "+-----------------+---------+-------+\n",
      "|actualelapsedtime|      int|   null|\n",
      "|          airtime|      int|   null|\n",
      "|         arrdelay|      int|   null|\n",
      "|          arrtime|      int|   null|\n",
      "|       crsarrtime|      int|   null|\n",
      "|       crsdeptime|      int|   null|\n",
      "|   crselapsedtime|      int|   null|\n",
      "| cancellationcode|   string|   null|\n",
      "|        cancelled|      int|   null|\n",
      "|     carrierdelay|      int|   null|\n",
      "|        dayofweek|      int|   null|\n",
      "|       dayofmonth|      int|   null|\n",
      "|         depdelay|      int|   null|\n",
      "|          deptime|      int|   null|\n",
      "|             dest|   string|   null|\n",
      "|         distance|      int|   null|\n",
      "|         diverted|      int|   null|\n",
      "|        flightnum|      int|   null|\n",
      "|lateaircraftdelay|      int|   null|\n",
      "|            month|      int|   null|\n",
      "+-----------------+---------+-------+\n",
      "only showing top 20 rows\n",
      "\n"
     ]
    }
   ],
   "source": [
    "spark.sql(\"describe airline_data\").show()"
   ]
  },
  {
   "cell_type": "code",
   "execution_count": 8,
   "id": "fc518b0d",
   "metadata": {},
   "outputs": [
    {
     "name": "stdout",
     "output_type": "stream",
     "text": [
      "Row(col_name='actualelapsedtime', data_type='int', comment=None)\n",
      "Row(col_name='airtime', data_type='int', comment=None)\n",
      "Row(col_name='arrdelay', data_type='int', comment=None)\n",
      "Row(col_name='arrtime', data_type='int', comment=None)\n",
      "Row(col_name='crsarrtime', data_type='int', comment=None)\n",
      "Row(col_name='crsdeptime', data_type='int', comment=None)\n",
      "Row(col_name='crselapsedtime', data_type='int', comment=None)\n",
      "Row(col_name='cancellationcode', data_type='string', comment=None)\n",
      "Row(col_name='cancelled', data_type='int', comment=None)\n",
      "Row(col_name='carrierdelay', data_type='int', comment=None)\n",
      "Row(col_name='dayofweek', data_type='int', comment=None)\n",
      "Row(col_name='dayofmonth', data_type='int', comment=None)\n",
      "Row(col_name='depdelay', data_type='int', comment=None)\n",
      "Row(col_name='deptime', data_type='int', comment=None)\n",
      "Row(col_name='dest', data_type='string', comment=None)\n",
      "Row(col_name='distance', data_type='int', comment=None)\n",
      "Row(col_name='diverted', data_type='int', comment=None)\n",
      "Row(col_name='flightnum', data_type='int', comment=None)\n",
      "Row(col_name='lateaircraftdelay', data_type='int', comment=None)\n",
      "Row(col_name='month', data_type='int', comment=None)\n",
      "Row(col_name='nasdelay', data_type='int', comment=None)\n",
      "Row(col_name='origin', data_type='string', comment=None)\n",
      "Row(col_name='securitydelay', data_type='int', comment=None)\n",
      "Row(col_name='tailnum', data_type='string', comment=None)\n",
      "Row(col_name='taxiin', data_type='int', comment=None)\n",
      "Row(col_name='taxiout', data_type='int', comment=None)\n",
      "Row(col_name='uniquecarrier', data_type='string', comment=None)\n",
      "Row(col_name='weatherdelay', data_type='int', comment=None)\n",
      "Row(col_name='year', data_type='int', comment=None)\n",
      "Row(col_name='', data_type='', comment='')\n",
      "Row(col_name='# Detailed Table Information', data_type='', comment='')\n",
      "Row(col_name='Catalog', data_type='spark_catalog', comment='')\n",
      "Row(col_name='Database', data_type='default', comment='')\n",
      "Row(col_name='Table', data_type='airline_data', comment='')\n",
      "Row(col_name='Owner', data_type='root', comment='')\n",
      "Row(col_name='Created Time', data_type='Sun May 25 16:09:57 CEST 2025', comment='')\n",
      "Row(col_name='Last Access', data_type='UNKNOWN', comment='')\n",
      "Row(col_name='Created By', data_type='Spark 2.2 or prior', comment='')\n",
      "Row(col_name='Type', data_type='EXTERNAL', comment='')\n",
      "Row(col_name='Provider', data_type='hive', comment='')\n",
      "Row(col_name='Table Properties', data_type='[bucketing_version=2, skip.header.line.count=0, transient_lastDdlTime=1748182197]', comment='')\n",
      "Row(col_name='Statistics', data_type='12029251510 bytes', comment='')\n",
      "Row(col_name='Location', data_type='hdfs://host.docker.internal:9000/user/hive/warehouse/dataset', comment='')\n",
      "Row(col_name='Serde Library', data_type='org.apache.hadoop.hive.serde2.lazy.LazySimpleSerDe', comment='')\n",
      "Row(col_name='InputFormat', data_type='org.apache.hadoop.mapred.TextInputFormat', comment='')\n",
      "Row(col_name='OutputFormat', data_type='org.apache.hadoop.hive.ql.io.HiveIgnoreKeyTextOutputFormat', comment='')\n",
      "Row(col_name='Storage Properties', data_type='[serialization.format=,, field.delim=,]', comment='')\n",
      "Row(col_name='Partition Provider', data_type='Catalog', comment='')\n"
     ]
    }
   ],
   "source": [
    "desc = spark.sql(\"DESCRIBE FORMATTED default.airline_data\").collect()\n",
    "for row in desc:\n",
    "    print(row)"
   ]
  },
  {
   "cell_type": "code",
   "execution_count": 5,
   "id": "aad1697f",
   "metadata": {},
   "outputs": [
    {
     "name": "stdout",
     "output_type": "stream",
     "text": [
      "fs.defaultFS = hdfs://localhost:9000\n",
      "dfs.datanode.address = 0.0.0.0:9866\n",
      "dfs.client.use.datanode.hostname = true\n",
      "dfs.datanode.use.datanode.hostname = true\n"
     ]
    }
   ],
   "source": [
    "# grab the Hadoop Configuration object\n",
    "hadoop_conf = spark.sparkContext._jsc.hadoopConfiguration()\n",
    "\n",
    "# check your NameNode URI\n",
    "print(\"fs.defaultFS =\", hadoop_conf.get(\"fs.defaultFS\"))\n",
    "\n",
    "# check DataNode address (block transfer port)\n",
    "print(\"dfs.datanode.address =\", hadoop_conf.get(\"dfs.datanode.address\"))\n",
    "\n",
    "# you can also list any other keys you care about\n",
    "for key in [\"dfs.client.use.datanode.hostname\", \"dfs.datanode.use.datanode.hostname\"]:\n",
    "    print(f\"{key} =\", hadoop_conf.get(key))\n"
   ]
  },
  {
   "cell_type": "code",
   "execution_count": 10,
   "id": "23fb0404",
   "metadata": {},
   "outputs": [
    {
     "name": "stderr",
     "output_type": "stream",
     "text": [
      "25/05/25 23:03:13 WARN package: Truncated the string representation of a plan since it was too large. This behavior can be adjusted by setting 'spark.sql.debug.maxToStringFields'.\n"
     ]
    },
    {
     "name": "stdout",
     "output_type": "stream",
     "text": [
      "+-----------------+-------+--------+-------+----------+----------+--------------+----------------+---------+------------+---------+----------+--------+-------+----+--------+--------+---------+-----------------+-----+--------+------+-------------+-------+------+-------+-------------+------------+----+\n",
      "|actualelapsedtime|airtime|arrdelay|arrtime|crsarrtime|crsdeptime|crselapsedtime|cancellationcode|cancelled|carrierdelay|dayofweek|dayofmonth|depdelay|deptime|dest|distance|diverted|flightnum|lateaircraftdelay|month|nasdelay|origin|securitydelay|tailnum|taxiin|taxiout|uniquecarrier|weatherdelay|year|\n",
      "+-----------------+-------+--------+-------+----------+----------+--------------+----------------+---------+------------+---------+----------+--------+-------+----+--------+--------+---------+-----------------+-----+--------+------+-------------+-------+------+-------+-------------+------------+----+\n",
      "|             null|   null|    null|   null|      null|      null|          null|CancellationCode|     null|        null|     null|      null|    null|   null|Dest|    null|    null|     null|             null| null|    null|Origin|         null|TailNum|  null|   null|UniqueCarrier|        null|null|\n",
      "|               53|     32|      -8|   1642|      1650|      1545|            65|              NA|        0|        null|        4|        10|       4|   1549| PIT|     205|       0|      209|             null|   10|    null|   DCA|         null| N443US|     7|     14|           US|        null|2002|\n",
      "|              164|    155|     -11|   1754|      1805|      1610|           175|              NA|        0|        null|        4|         2|       0|   1610| MCI|    1072|       0|      109|             null|   12|    null|   MCO|         null|   N755|     2|      7|           WN|        null|1999|\n",
      "|               60|   null|      15|   2005|      1950|      1850|            60|              NA|        0|        null|        5|        10|      15|   1905| CLT|     227|       0|     1276|             null|   12|    null|   ATL|         null|     NA|  null|   null|           DL|        null|1993|\n",
      "|               51|   null|      -5|   1818|      1823|      1728|            55|              NA|        0|        null|        4|        28|      -1|   1727| BNA|     200|       0|      961|             null|    9|    null|   MEM|         null|     NA|  null|   null|           AA|        null|1989|\n",
      "+-----------------+-------+--------+-------+----------+----------+--------------+----------------+---------+------------+---------+----------+--------+-------+----+--------+--------+---------+-----------------+-----+--------+------+-------------+-------+------+-------+-------------+------------+----+\n",
      "\n"
     ]
    }
   ],
   "source": [
    "spark.sql(\"SELECT * FROM default.airline_data LIMIT 5\").show()"
   ]
  },
  {
   "cell_type": "markdown",
   "id": "e20eb76d",
   "metadata": {},
   "source": [
    "# Data loading tests"
   ]
  },
  {
   "cell_type": "code",
   "execution_count": 11,
   "id": "c8640493",
   "metadata": {},
   "outputs": [],
   "source": [
    "import time\n",
    "\n",
    "def dataframe_load_test(num_of_rows: int):\n",
    "    spark.catalog.clearCache()\n",
    "    start = time.time()\n",
    "    df = spark.sql(\"SELECT * FROM default.airline_data\").limit(num_of_rows)\n",
    "    df.unpersist()\n",
    "    df = df.localCheckpoint(eager=True)  # wymuś odczyt z HDFS\n",
    "    df.count()  # wymuś wykonanie zapytania\n",
    "    elapsed = time.time() - start\n",
    "    print(f\"Czas ładowania {num_of_rows} wierszy: {elapsed:.2f} s\")\n",
    "    return df"
   ]
  },
  {
   "cell_type": "code",
   "execution_count": null,
   "id": "b0430729",
   "metadata": {},
   "outputs": [
    {
     "name": "stderr",
     "output_type": "stream",
     "text": [
      "25/05/19 16:48:17 WARN MemoryStore: Not enough space to cache rdd_167_0 in memory! (computed 324.3 MiB so far)\n",
      "25/05/19 16:48:17 WARN BlockManager: Persisting block rdd_167_0 to disk instead.\n",
      "25/05/19 16:51:20 WARN MemoryStore: Not enough space to cache rdd_167_0 in memory! (computed 324.3 MiB so far)\n",
      "25/05/19 16:52:14 WARN MemoryStore: Not enough space to cache rdd_167_0 in memory! (computed 324.3 MiB so far)\n"
     ]
    },
    {
     "name": "stdout",
     "output_type": "stream",
     "text": [
      "Czas ładowania 123536462 wierszy: 361.45 s\n"
     ]
    },
    {
     "name": "stderr",
     "output_type": "stream",
     "text": [
      "                                                                                \r"
     ]
    }
   ],
   "source": [
    "dataframe_load_test(123536462)"
   ]
  },
  {
   "cell_type": "code",
   "execution_count": 12,
   "id": "d5a031d5",
   "metadata": {},
   "outputs": [
    {
     "name": "stderr",
     "output_type": "stream",
     "text": [
      "[Stage 13:====================================================>   (86 + 5) / 91]\r"
     ]
    },
    {
     "name": "stdout",
     "output_type": "stream",
     "text": [
      "Czas ładowania 200000 wierszy: 11.46 s\n"
     ]
    },
    {
     "name": "stderr",
     "output_type": "stream",
     "text": [
      "                                                                                \r"
     ]
    }
   ],
   "source": [
    "dataframe_load_test(200_000)"
   ]
  },
  {
   "cell_type": "code",
   "execution_count": 13,
   "id": "55424ed0",
   "metadata": {},
   "outputs": [
    {
     "name": "stderr",
     "output_type": "stream",
     "text": [
      "[Stage 17:>                                                         (0 + 1) / 1]\r"
     ]
    },
    {
     "name": "stdout",
     "output_type": "stream",
     "text": [
      "Czas ładowania 300000 wierszy: 14.84 s\n"
     ]
    },
    {
     "name": "stderr",
     "output_type": "stream",
     "text": [
      "                                                                                \r"
     ]
    }
   ],
   "source": [
    "dataframe_load_test(300_000)"
   ]
  },
  {
   "cell_type": "code",
   "execution_count": 14,
   "id": "38540149",
   "metadata": {},
   "outputs": [
    {
     "name": "stderr",
     "output_type": "stream",
     "text": [
      "[Stage 19:=======================================================>(90 + 1) / 91]\r"
     ]
    },
    {
     "name": "stdout",
     "output_type": "stream",
     "text": [
      "Czas ładowania 400000 wierszy: 18.44 s\n"
     ]
    },
    {
     "name": "stderr",
     "output_type": "stream",
     "text": [
      "                                                                                \r"
     ]
    }
   ],
   "source": [
    "dataframe_load_test(400_000)"
   ]
  },
  {
   "cell_type": "code",
   "execution_count": 19,
   "id": "63bfb67a",
   "metadata": {},
   "outputs": [
    {
     "name": "stderr",
     "output_type": "stream",
     "text": [
      "[Stage 35:>                                                         (0 + 1) / 1]\r"
     ]
    },
    {
     "name": "stdout",
     "output_type": "stream",
     "text": [
      "Czas ładowania 500000 wierszy: 30.56 s\n"
     ]
    },
    {
     "name": "stderr",
     "output_type": "stream",
     "text": [
      "                                                                                \r"
     ]
    }
   ],
   "source": [
    "dataframe_load_test(500_000)"
   ]
  },
  {
   "cell_type": "code",
   "execution_count": 16,
   "id": "dafb68db",
   "metadata": {},
   "outputs": [
    {
     "name": "stderr",
     "output_type": "stream",
     "text": [
      "[Stage 26:>                                                         (0 + 1) / 1]\r"
     ]
    },
    {
     "name": "stdout",
     "output_type": "stream",
     "text": [
      "Czas ładowania 1000000 wierszy: 53.73 s\n"
     ]
    },
    {
     "name": "stderr",
     "output_type": "stream",
     "text": [
      "                                                                                \r"
     ]
    }
   ],
   "source": [
    "dataframe_load_test(1_000_000)"
   ]
  },
  {
   "cell_type": "code",
   "execution_count": 17,
   "id": "f4d6d5ec",
   "metadata": {},
   "outputs": [
    {
     "name": "stderr",
     "output_type": "stream",
     "text": [
      "25/05/19 17:17:47 WARN MemoryStore: Not enough space to cache rdd_119_0 in memory! (computed 324.3 MiB so far)\n",
      "25/05/19 17:17:47 WARN BlockManager: Persisting block rdd_119_0 to disk instead.\n",
      "25/05/19 17:18:01 WARN MemoryStore: Not enough space to cache rdd_119_0 in memory! (computed 324.3 MiB so far)\n",
      "25/05/19 17:18:06 WARN MemoryStore: Not enough space to cache rdd_119_0 in memory! (computed 324.3 MiB so far)\n"
     ]
    },
    {
     "name": "stdout",
     "output_type": "stream",
     "text": [
      "Czas ładowania 10000000 wierszy: 97.30 s\n"
     ]
    },
    {
     "name": "stderr",
     "output_type": "stream",
     "text": [
      "                                                                                \r"
     ]
    }
   ],
   "source": [
    "dataframe_load_test(10_000_000)"
   ]
  },
  {
   "cell_type": "code",
   "execution_count": 34,
   "id": "da940411",
   "metadata": {},
   "outputs": [],
   "source": [
    "import time\n",
    "HDFS_PATH = \"hdfs://host.docker.internal:9000/user/hive/warehouse/*\"\n",
    "def rdd_load_test(num_of_rows: int):\n",
    "    sc = spark.sparkContext\n",
    "\n",
    "   \n",
    "    raw_rdd = sc.textFile(HDFS_PATH)\n",
    "    limited_rdd = (\n",
    "        raw_rdd\n",
    "        .zipWithIndex()\n",
    "        .filter(lambda pair: pair[1] < num_of_rows)\n",
    "        .map(lambda pair: pair[0])\n",
    "    )\n",
    "\n",
    "    start = time.time()\n",
    "    limited_rdd.count()\n",
    "    elapsed = time.time() - start\n",
    "    print(f\"Czas ładowania {num_of_rows} wierszy (RDD): {elapsed:.2f} s\")"
   ]
  },
  {
   "cell_type": "code",
   "execution_count": 36,
   "id": "b976b7dd",
   "metadata": {},
   "outputs": [
    {
     "name": "stderr",
     "output_type": "stream",
     "text": [
      "[Stage 43:======================================================> (88 + 3) / 91]\r"
     ]
    },
    {
     "name": "stdout",
     "output_type": "stream",
     "text": [
      "Czas ładowania 200000 wierszy (RDD): 33.89 s\n"
     ]
    },
    {
     "name": "stderr",
     "output_type": "stream",
     "text": [
      "                                                                                \r"
     ]
    }
   ],
   "source": [
    "rdd_load_test(200_000)\n"
   ]
  },
  {
   "cell_type": "code",
   "execution_count": 37,
   "id": "130ee649",
   "metadata": {},
   "outputs": [
    {
     "name": "stderr",
     "output_type": "stream",
     "text": [
      "[Stage 45:====================================================>   (86 + 5) / 91]\r"
     ]
    },
    {
     "name": "stdout",
     "output_type": "stream",
     "text": [
      "Czas ładowania 300000 wierszy (RDD): 35.63 s\n"
     ]
    },
    {
     "name": "stderr",
     "output_type": "stream",
     "text": [
      "                                                                                \r"
     ]
    }
   ],
   "source": [
    "rdd_load_test(300_000)\n"
   ]
  },
  {
   "cell_type": "code",
   "execution_count": 41,
   "id": "39d9f43c",
   "metadata": {},
   "outputs": [
    {
     "name": "stderr",
     "output_type": "stream",
     "text": [
      "[Stage 53:====================================================>   (86 + 5) / 91]\r"
     ]
    },
    {
     "name": "stdout",
     "output_type": "stream",
     "text": [
      "Czas ładowania 400000 wierszy (RDD): 34.70 s\n"
     ]
    },
    {
     "name": "stderr",
     "output_type": "stream",
     "text": [
      "                                                                                \r"
     ]
    }
   ],
   "source": [
    "rdd_load_test(400_000)\n"
   ]
  },
  {
   "cell_type": "code",
   "execution_count": 38,
   "id": "ddf113df",
   "metadata": {},
   "outputs": [
    {
     "name": "stderr",
     "output_type": "stream",
     "text": [
      "[Stage 47:======================================================> (89 + 2) / 91]\r"
     ]
    },
    {
     "name": "stdout",
     "output_type": "stream",
     "text": [
      "Czas ładowania 500000 wierszy (RDD): 35.49 s\n"
     ]
    },
    {
     "name": "stderr",
     "output_type": "stream",
     "text": [
      "                                                                                \r"
     ]
    }
   ],
   "source": [
    "rdd_load_test(500_000)\n"
   ]
  },
  {
   "cell_type": "code",
   "execution_count": 39,
   "id": "a938328f",
   "metadata": {},
   "outputs": [
    {
     "name": "stderr",
     "output_type": "stream",
     "text": [
      "[Stage 49:======================================================> (88 + 3) / 91]\r"
     ]
    },
    {
     "name": "stdout",
     "output_type": "stream",
     "text": [
      "Czas ładowania 1000000 wierszy (RDD): 35.04 s\n"
     ]
    },
    {
     "name": "stderr",
     "output_type": "stream",
     "text": [
      "                                                                                \r"
     ]
    }
   ],
   "source": [
    "rdd_load_test(1_000_000)"
   ]
  },
  {
   "cell_type": "code",
   "execution_count": 40,
   "id": "899c01a1",
   "metadata": {},
   "outputs": [
    {
     "name": "stderr",
     "output_type": "stream",
     "text": [
      "[Stage 51:====================================================>   (86 + 5) / 91]\r"
     ]
    },
    {
     "name": "stdout",
     "output_type": "stream",
     "text": [
      "Czas ładowania 10000000 wierszy (RDD): 35.87 s\n"
     ]
    },
    {
     "name": "stderr",
     "output_type": "stream",
     "text": [
      "                                                                                \r"
     ]
    }
   ],
   "source": [
    "rdd_load_test(10_000_000)"
   ]
  },
  {
   "cell_type": "markdown",
   "id": "e3a9d966",
   "metadata": {},
   "source": [
    "# Questions"
   ]
  },
  {
   "cell_type": "code",
   "execution_count": 12,
   "id": "2824935a",
   "metadata": {},
   "outputs": [
    {
     "name": "stderr",
     "output_type": "stream",
     "text": [
      "25/05/25 23:04:46 WARN MemoryStore: Not enough space to cache rdd_17_0 in memory! (computed 324.3 MiB so far)\n",
      "25/05/25 23:04:46 WARN BlockManager: Persisting block rdd_17_0 to disk instead.\n",
      "25/05/25 23:05:00 WARN MemoryStore: Not enough space to cache rdd_17_0 in memory! (computed 324.3 MiB so far)\n",
      "25/05/25 23:05:05 WARN MemoryStore: Not enough space to cache rdd_17_0 in memory! (computed 324.3 MiB so far)\n"
     ]
    },
    {
     "name": "stdout",
     "output_type": "stream",
     "text": [
      "Czas ładowania 10000000 wierszy: 101.15 s\n"
     ]
    },
    {
     "name": "stderr",
     "output_type": "stream",
     "text": [
      "                                                                                \r"
     ]
    }
   ],
   "source": [
    "# QUESTION 1\n",
    "# dataframe_copied with TimeOfDay\n",
    "from pyparsing import Literal\n",
    "from pyspark.sql.functions import col, count, avg, when, udf\n",
    "\n",
    "df = dataframe_load_test(10_000_000)\n"
   ]
  },
  {
   "cell_type": "code",
   "execution_count": 17,
   "id": "9d9fc377",
   "metadata": {},
   "outputs": [],
   "source": [
    "\n",
    "from measurment_tools import perf_timer\n",
    "from typing import Literal\n",
    "\n",
    "\n",
    "@perf_timer\n",
    "def give_answer_61(df, by: Literal['timeofday', 'dayofweek', 'month']):\n",
    "    \"\"\"Aggregate delay over datetimes\"\"\"\n",
    "    df.groupBy(by) \\\n",
    "        .agg(avg(\"arrdelay\").alias(\"avgarrdelay\")) \\\n",
    "        .orderBy(\"avgarrdelay\") \\\n",
    "    .show()"
   ]
  },
  {
   "cell_type": "code",
   "execution_count": 20,
   "id": "e73f9c49",
   "metadata": {},
   "outputs": [],
   "source": [
    "from measurment_tools import perf_timer\n",
    "from typing import Literal\n",
    "from pyspark.rdd import RDD\n",
    "from pyspark.storagelevel import StorageLevel\n",
    "\n",
    "@perf_timer\n",
    "def give_answer_61_rdd(rdd, by):\n",
    "    valid = {'timeofday','dayofweek','month'}\n",
    "    if by not in valid:\n",
    "        raise ValueError\n",
    "\n",
    "    # drop nulls\n",
    "    clean = rdd.filter(\n",
    "        lambda row: getattr(row, by) is not None\n",
    "                   and row.arrdelay is not None\n",
    "    ).persist(StorageLevel.MEMORY_AND_DISK)\n",
    "\n",
    "    # compute avg delay\n",
    "    result = (clean\n",
    "        .map(lambda row: (getattr(row, by), (row.arrdelay, 1)))\n",
    "        .reduceByKey(lambda a, b: (a[0]+b[0], a[1]+b[1]))\n",
    "        .mapValues(lambda t: t[0]/t[1])\n",
    "        .sortBy(lambda kv: kv[1])\n",
    "        .collect()\n",
    "    )\n",
    "\n",
    "    # display\n",
    "    for key, avg in result:\n",
    "        print(f\"{key:<9} {avg:.16f}\")\n"
   ]
  },
  {
   "cell_type": "code",
   "execution_count": 14,
   "id": "748a284c",
   "metadata": {},
   "outputs": [],
   "source": [
    "\n",
    "def get_61_df_of_size(df, size: int):\n",
    "    \"\"\"Get a DataFrame of a specific size\"\"\"\n",
    "    return df.withColumn(\"timeofday\", when(col(\"deptime\") < 1200, \"morning\") \\\n",
    "                          .when(col(\"deptime\") < 1800, \"afternoon\") \\\n",
    "                          .otherwise(\"evening\")).limit(size)"
   ]
  },
  {
   "cell_type": "code",
   "execution_count": 15,
   "id": "668e7207",
   "metadata": {},
   "outputs": [],
   "source": [
    "small_df = get_61_df_of_size(df, 100_000)\n",
    "medium_df = get_61_df_of_size(df, 1_000_000)\n",
    "big_df = get_61_df_of_size(df, 10_000_000)\n",
    "small_rdd = small_df.rdd\n",
    "medium_rdd = medium_df.rdd\n",
    "big_rdd = big_df.rdd\n"
   ]
  },
  {
   "cell_type": "code",
   "execution_count": 19,
   "id": "6ead9acb",
   "metadata": {},
   "outputs": [
    {
     "name": "stderr",
     "output_type": "stream",
     "text": [
      "25/05/25 23:06:30 WARN MemoryStore: Not enough space to cache rdd_17_0 in memory! (computed 324.3 MiB so far)\n",
      "                                                                                \r"
     ]
    },
    {
     "name": "stdout",
     "output_type": "stream",
     "text": [
      "+---------+------------------+\n",
      "|timeofday|       avgarrdelay|\n",
      "+---------+------------------+\n",
      "|  morning| 2.514606683936495|\n",
      "|afternoon| 7.312166866093767|\n",
      "|  evening|15.034083193771783|\n",
      "+---------+------------------+\n",
      "\n",
      "Function 'give_answer_61' took 1.38932 seconds to execute.\n"
     ]
    },
    {
     "name": "stderr",
     "output_type": "stream",
     "text": [
      "25/05/25 23:06:32 WARN MemoryStore: Not enough space to cache rdd_17_0 in memory! (computed 324.3 MiB so far)\n",
      "                                                                                \r"
     ]
    },
    {
     "name": "stdout",
     "output_type": "stream",
     "text": [
      "+---------+------------------+\n",
      "|timeofday|       avgarrdelay|\n",
      "+---------+------------------+\n",
      "|  morning|2.4459977823343118|\n",
      "|afternoon| 7.234572221453625|\n",
      "|  evening|14.833133112337528|\n",
      "+---------+------------------+\n",
      "\n",
      "Function 'give_answer_61' took 1.34019 seconds to execute.\n"
     ]
    },
    {
     "name": "stderr",
     "output_type": "stream",
     "text": [
      "25/05/25 23:06:33 WARN MemoryStore: Not enough space to cache rdd_17_0 in memory! (computed 324.3 MiB so far)\n"
     ]
    },
    {
     "name": "stdout",
     "output_type": "stream",
     "text": [
      "+---------+------------------+\n",
      "|timeofday|       avgarrdelay|\n",
      "+---------+------------------+\n",
      "|  morning|2.3922700581543497|\n",
      "|afternoon| 7.283991689516339|\n",
      "|  evening|14.832219557379497|\n",
      "+---------+------------------+\n",
      "\n",
      "Function 'give_answer_61' took 5.48702 seconds to execute.\n"
     ]
    },
    {
     "name": "stderr",
     "output_type": "stream",
     "text": [
      "                                                                                \r"
     ]
    }
   ],
   "source": [
    "give_answer_61(small_df, by=\"timeofday\")\n",
    "give_answer_61(medium_df, by=\"timeofday\")\n",
    "give_answer_61(big_df, by=\"timeofday\")"
   ]
  },
  {
   "cell_type": "code",
   "execution_count": 21,
   "id": "f26ec555",
   "metadata": {},
   "outputs": [
    {
     "name": "stderr",
     "output_type": "stream",
     "text": [
      "25/05/25 23:07:45 WARN MemoryStore: Not enough space to cache rdd_17_0 in memory! (computed 324.3 MiB so far)\n",
      "                                                                                \r"
     ]
    },
    {
     "name": "stdout",
     "output_type": "stream",
     "text": [
      "morning   2.5146066839364951\n",
      "afternoon 7.3121668660937669\n",
      "evening   15.0340831937717834\n",
      "Function 'give_answer_61_rdd' took 3.54163 seconds to execute.\n"
     ]
    },
    {
     "name": "stderr",
     "output_type": "stream",
     "text": [
      "25/05/25 23:07:48 WARN MemoryStore: Not enough space to cache rdd_17_0 in memory! (computed 324.3 MiB so far)\n",
      "25/05/25 23:07:53 WARN MemoryStore: Not enough space to cache rdd_51_0 in memory! (computed 37.1 MiB so far)\n",
      "25/05/25 23:07:53 WARN BlockManager: Persisting block rdd_51_0 to disk instead.\n",
      "                                                                                \r"
     ]
    },
    {
     "name": "stdout",
     "output_type": "stream",
     "text": [
      "morning   2.4459977823343118\n",
      "afternoon 7.2345722214536252\n",
      "evening   14.8331331123375278\n",
      "Function 'give_answer_61_rdd' took 10.55551 seconds to execute.\n"
     ]
    },
    {
     "name": "stderr",
     "output_type": "stream",
     "text": [
      "25/05/25 23:07:58 WARN MemoryStore: Not enough space to cache rdd_17_0 in memory! (computed 324.3 MiB so far)\n",
      "25/05/25 23:08:03 WARN MemoryStore: Not enough space to cache rdd_57_0 in memory! (computed 37.1 MiB so far)\n",
      "25/05/25 23:08:03 WARN BlockManager: Persisting block rdd_57_0 to disk instead.\n",
      "[Stage 12:>                                                         (0 + 1) / 1]\r"
     ]
    },
    {
     "name": "stdout",
     "output_type": "stream",
     "text": [
      "morning   2.3922700581543497\n",
      "afternoon 7.2839916895163386\n",
      "evening   14.8322195573794975\n",
      "Function 'give_answer_61_rdd' took 93.01582 seconds to execute.\n",
      "Human-readable time: 1.0mins 33.01582217599935secs\n"
     ]
    },
    {
     "name": "stderr",
     "output_type": "stream",
     "text": [
      "                                                                                \r"
     ]
    }
   ],
   "source": [
    "give_answer_61_rdd(small_rdd, by=\"timeofday\")\n",
    "give_answer_61_rdd(medium_rdd, by=\"timeofday\")\n",
    "give_answer_61_rdd(big_rdd, by=\"timeofday\")"
   ]
  },
  {
   "cell_type": "code",
   "execution_count": 12,
   "id": "51bfa0f5",
   "metadata": {},
   "outputs": [],
   "source": [
    "from measurment_tools import perf_timer\n",
    "import pandas as pd\n",
    "@perf_timer\n",
    "def give_answer_62(df):\n",
    "    \"\"\"Plot average arrival delay by year\"\"\"\n",
    "    # calc avg arrival delay by year\n",
    "    avg_delay_df = df.groupBy(\"year\") \\\n",
    "        .agg(avg(\"arrdelay\").alias(\"avgarrdelay\")) \\\n",
    "        .orderBy(\"year\")\n",
    "    \n",
    "    # plot pandas df \n",
    "    pandas_df = avg_delay_df.toPandas()\n",
    "    return pandas_df"
   ]
  },
  {
   "cell_type": "code",
   "execution_count": 23,
   "id": "982dac41",
   "metadata": {},
   "outputs": [],
   "source": [
    "from measurment_tools import perf_timer\n",
    "from pyspark.rdd import RDD\n",
    "import pandas as pd\n",
    "\n",
    "@perf_timer\n",
    "def give_answer_62_rdd(rdd: RDD) -> pd.DataFrame:\n",
    "    \"\"\"\n",
    "    Compute average arrival delay by year using the RDD API,\n",
    "    and return the result as a pandas DataFrame with columns:\n",
    "      - year\n",
    "      - avgarrdelay\n",
    "    \"\"\"\n",
    "    clean = rdd.filter(lambda row: row.year is not None and row.arrdelay is not None)\n",
    "    summed = (\n",
    "        clean\n",
    "        .map(lambda row: (row.year, (row.arrdelay, 1)))\n",
    "        .reduceByKey(lambda a, b: (a[0] + b[0], a[1] + b[1]))\n",
    "    )\n",
    "    averages = summed.mapValues(lambda t: t[0] / t[1])\n",
    "    result = (averages\n",
    "              .sortBy(lambda kv: kv[0])\n",
    "              .collect())\n",
    "    pdf = pd.DataFrame(result, columns=[\"year\", \"avgarrdelay\"])\n",
    "    return pdf"
   ]
  },
  {
   "cell_type": "code",
   "execution_count": 22,
   "id": "11e5f8d0",
   "metadata": {},
   "outputs": [],
   "source": [
    "\n",
    "small_df = df.limit(100_000)\n",
    "medium_df = df.limit(1_000_000)\n",
    "big_df = df.limit(10_000_000)\n",
    "small_rdd = small_df.rdd\n",
    "medium_rdd = medium_df.rdd\n",
    "big_rdd = big_df.rdd"
   ]
  },
  {
   "cell_type": "code",
   "execution_count": null,
   "id": "698ea29b",
   "metadata": {},
   "outputs": [
    {
     "name": "stdout",
     "output_type": "stream",
     "text": [
      "Function 'give_answer_62' took 0.85703 seconds to execute.\n"
     ]
    },
    {
     "name": "stderr",
     "output_type": "stream",
     "text": [
      "25/05/25 17:33:34 WARN MemoryStore: Not enough space to cache rdd_8_0 in memory! (computed 324.3 MiB so far)\n",
      "                                                                                \r"
     ]
    },
    {
     "data": {
      "text/html": [
       "<div>\n",
       "<style scoped>\n",
       "    .dataframe tbody tr th:only-of-type {\n",
       "        vertical-align: middle;\n",
       "    }\n",
       "\n",
       "    .dataframe tbody tr th {\n",
       "        vertical-align: top;\n",
       "    }\n",
       "\n",
       "    .dataframe thead th {\n",
       "        text-align: right;\n",
       "    }\n",
       "</style>\n",
       "<table border=\"1\" class=\"dataframe\">\n",
       "  <thead>\n",
       "    <tr style=\"text-align: right;\">\n",
       "      <th></th>\n",
       "      <th>year</th>\n",
       "      <th>avgarrdelay</th>\n",
       "    </tr>\n",
       "  </thead>\n",
       "  <tbody>\n",
       "    <tr>\n",
       "      <th>0</th>\n",
       "      <td>NaN</td>\n",
       "      <td>NaN</td>\n",
       "    </tr>\n",
       "    <tr>\n",
       "      <th>1</th>\n",
       "      <td>1987.0</td>\n",
       "      <td>8.697393</td>\n",
       "    </tr>\n",
       "    <tr>\n",
       "      <th>2</th>\n",
       "      <td>1988.0</td>\n",
       "      <td>6.558851</td>\n",
       "    </tr>\n",
       "    <tr>\n",
       "      <th>3</th>\n",
       "      <td>1989.0</td>\n",
       "      <td>8.089500</td>\n",
       "    </tr>\n",
       "    <tr>\n",
       "      <th>4</th>\n",
       "      <td>1990.0</td>\n",
       "      <td>6.594182</td>\n",
       "    </tr>\n",
       "    <tr>\n",
       "      <th>5</th>\n",
       "      <td>1991.0</td>\n",
       "      <td>4.419783</td>\n",
       "    </tr>\n",
       "    <tr>\n",
       "      <th>6</th>\n",
       "      <td>1992.0</td>\n",
       "      <td>5.121094</td>\n",
       "    </tr>\n",
       "    <tr>\n",
       "      <th>7</th>\n",
       "      <td>1993.0</td>\n",
       "      <td>4.745656</td>\n",
       "    </tr>\n",
       "    <tr>\n",
       "      <th>8</th>\n",
       "      <td>1994.0</td>\n",
       "      <td>5.766962</td>\n",
       "    </tr>\n",
       "    <tr>\n",
       "      <th>9</th>\n",
       "      <td>1995.0</td>\n",
       "      <td>6.700753</td>\n",
       "    </tr>\n",
       "    <tr>\n",
       "      <th>10</th>\n",
       "      <td>1996.0</td>\n",
       "      <td>9.708459</td>\n",
       "    </tr>\n",
       "    <tr>\n",
       "      <th>11</th>\n",
       "      <td>1997.0</td>\n",
       "      <td>7.963189</td>\n",
       "    </tr>\n",
       "    <tr>\n",
       "      <th>12</th>\n",
       "      <td>1998.0</td>\n",
       "      <td>7.055992</td>\n",
       "    </tr>\n",
       "    <tr>\n",
       "      <th>13</th>\n",
       "      <td>1999.0</td>\n",
       "      <td>7.894812</td>\n",
       "    </tr>\n",
       "    <tr>\n",
       "      <th>14</th>\n",
       "      <td>2000.0</td>\n",
       "      <td>11.105867</td>\n",
       "    </tr>\n",
       "    <tr>\n",
       "      <th>15</th>\n",
       "      <td>2001.0</td>\n",
       "      <td>6.681907</td>\n",
       "    </tr>\n",
       "    <tr>\n",
       "      <th>16</th>\n",
       "      <td>2002.0</td>\n",
       "      <td>2.877437</td>\n",
       "    </tr>\n",
       "    <tr>\n",
       "      <th>17</th>\n",
       "      <td>2003.0</td>\n",
       "      <td>3.726759</td>\n",
       "    </tr>\n",
       "    <tr>\n",
       "      <th>18</th>\n",
       "      <td>2004.0</td>\n",
       "      <td>6.452796</td>\n",
       "    </tr>\n",
       "    <tr>\n",
       "      <th>19</th>\n",
       "      <td>2005.0</td>\n",
       "      <td>8.322216</td>\n",
       "    </tr>\n",
       "    <tr>\n",
       "      <th>20</th>\n",
       "      <td>2006.0</td>\n",
       "      <td>8.770775</td>\n",
       "    </tr>\n",
       "    <tr>\n",
       "      <th>21</th>\n",
       "      <td>2007.0</td>\n",
       "      <td>11.174797</td>\n",
       "    </tr>\n",
       "    <tr>\n",
       "      <th>22</th>\n",
       "      <td>2008.0</td>\n",
       "      <td>7.592350</td>\n",
       "    </tr>\n",
       "  </tbody>\n",
       "</table>\n",
       "</div>"
      ],
      "text/plain": [
       "      year  avgarrdelay\n",
       "0      NaN          NaN\n",
       "1   1987.0     8.697393\n",
       "2   1988.0     6.558851\n",
       "3   1989.0     8.089500\n",
       "4   1990.0     6.594182\n",
       "5   1991.0     4.419783\n",
       "6   1992.0     5.121094\n",
       "7   1993.0     4.745656\n",
       "8   1994.0     5.766962\n",
       "9   1995.0     6.700753\n",
       "10  1996.0     9.708459\n",
       "11  1997.0     7.963189\n",
       "12  1998.0     7.055992\n",
       "13  1999.0     7.894812\n",
       "14  2000.0    11.105867\n",
       "15  2001.0     6.681907\n",
       "16  2002.0     2.877437\n",
       "17  2003.0     3.726759\n",
       "18  2004.0     6.452796\n",
       "19  2005.0     8.322216\n",
       "20  2006.0     8.770775\n",
       "21  2007.0    11.174797\n",
       "22  2008.0     7.592350"
      ]
     },
     "execution_count": 14,
     "metadata": {},
     "output_type": "execute_result"
    }
   ],
   "source": [
    "# QUESTION 2\n",
    "give_answer_62(small_df)"
   ]
  },
  {
   "cell_type": "code",
   "execution_count": 16,
   "id": "00ba4f93",
   "metadata": {},
   "outputs": [
    {
     "name": "stderr",
     "output_type": "stream",
     "text": [
      "[Stage 8:>                                                          (0 + 1) / 1]\r"
     ]
    },
    {
     "name": "stdout",
     "output_type": "stream",
     "text": [
      "Function 'give_answer_62' took 1.32835 seconds to execute.\n"
     ]
    },
    {
     "name": "stderr",
     "output_type": "stream",
     "text": [
      "25/05/25 17:33:57 WARN MemoryStore: Not enough space to cache rdd_8_0 in memory! (computed 324.3 MiB so far)\n",
      "                                                                                \r"
     ]
    },
    {
     "data": {
      "text/html": [
       "<div>\n",
       "<style scoped>\n",
       "    .dataframe tbody tr th:only-of-type {\n",
       "        vertical-align: middle;\n",
       "    }\n",
       "\n",
       "    .dataframe tbody tr th {\n",
       "        vertical-align: top;\n",
       "    }\n",
       "\n",
       "    .dataframe thead th {\n",
       "        text-align: right;\n",
       "    }\n",
       "</style>\n",
       "<table border=\"1\" class=\"dataframe\">\n",
       "  <thead>\n",
       "    <tr style=\"text-align: right;\">\n",
       "      <th></th>\n",
       "      <th>year</th>\n",
       "      <th>avgarrdelay</th>\n",
       "    </tr>\n",
       "  </thead>\n",
       "  <tbody>\n",
       "    <tr>\n",
       "      <th>0</th>\n",
       "      <td>NaN</td>\n",
       "      <td>NaN</td>\n",
       "    </tr>\n",
       "    <tr>\n",
       "      <th>1</th>\n",
       "      <td>1987.0</td>\n",
       "      <td>9.500662</td>\n",
       "    </tr>\n",
       "    <tr>\n",
       "      <th>2</th>\n",
       "      <td>1988.0</td>\n",
       "      <td>6.470160</td>\n",
       "    </tr>\n",
       "    <tr>\n",
       "      <th>3</th>\n",
       "      <td>1989.0</td>\n",
       "      <td>8.346133</td>\n",
       "    </tr>\n",
       "    <tr>\n",
       "      <th>4</th>\n",
       "      <td>1990.0</td>\n",
       "      <td>6.953657</td>\n",
       "    </tr>\n",
       "    <tr>\n",
       "      <th>5</th>\n",
       "      <td>1991.0</td>\n",
       "      <td>4.690140</td>\n",
       "    </tr>\n",
       "    <tr>\n",
       "      <th>6</th>\n",
       "      <td>1992.0</td>\n",
       "      <td>4.904006</td>\n",
       "    </tr>\n",
       "    <tr>\n",
       "      <th>7</th>\n",
       "      <td>1993.0</td>\n",
       "      <td>5.267161</td>\n",
       "    </tr>\n",
       "    <tr>\n",
       "      <th>8</th>\n",
       "      <td>1994.0</td>\n",
       "      <td>5.801915</td>\n",
       "    </tr>\n",
       "    <tr>\n",
       "      <th>9</th>\n",
       "      <td>1995.0</td>\n",
       "      <td>6.875455</td>\n",
       "    </tr>\n",
       "    <tr>\n",
       "      <th>10</th>\n",
       "      <td>1996.0</td>\n",
       "      <td>9.869064</td>\n",
       "    </tr>\n",
       "    <tr>\n",
       "      <th>11</th>\n",
       "      <td>1997.0</td>\n",
       "      <td>7.733315</td>\n",
       "    </tr>\n",
       "    <tr>\n",
       "      <th>12</th>\n",
       "      <td>1998.0</td>\n",
       "      <td>7.335230</td>\n",
       "    </tr>\n",
       "    <tr>\n",
       "      <th>13</th>\n",
       "      <td>1999.0</td>\n",
       "      <td>8.143910</td>\n",
       "    </tr>\n",
       "    <tr>\n",
       "      <th>14</th>\n",
       "      <td>2000.0</td>\n",
       "      <td>10.873776</td>\n",
       "    </tr>\n",
       "    <tr>\n",
       "      <th>15</th>\n",
       "      <td>2001.0</td>\n",
       "      <td>5.335007</td>\n",
       "    </tr>\n",
       "    <tr>\n",
       "      <th>16</th>\n",
       "      <td>2002.0</td>\n",
       "      <td>3.113855</td>\n",
       "    </tr>\n",
       "    <tr>\n",
       "      <th>17</th>\n",
       "      <td>2003.0</td>\n",
       "      <td>3.535937</td>\n",
       "    </tr>\n",
       "    <tr>\n",
       "      <th>18</th>\n",
       "      <td>2004.0</td>\n",
       "      <td>6.174518</td>\n",
       "    </tr>\n",
       "    <tr>\n",
       "      <th>19</th>\n",
       "      <td>2005.0</td>\n",
       "      <td>7.384249</td>\n",
       "    </tr>\n",
       "    <tr>\n",
       "      <th>20</th>\n",
       "      <td>2006.0</td>\n",
       "      <td>8.846128</td>\n",
       "    </tr>\n",
       "    <tr>\n",
       "      <th>21</th>\n",
       "      <td>2007.0</td>\n",
       "      <td>10.356577</td>\n",
       "    </tr>\n",
       "    <tr>\n",
       "      <th>22</th>\n",
       "      <td>2008.0</td>\n",
       "      <td>7.958911</td>\n",
       "    </tr>\n",
       "  </tbody>\n",
       "</table>\n",
       "</div>"
      ],
      "text/plain": [
       "      year  avgarrdelay\n",
       "0      NaN          NaN\n",
       "1   1987.0     9.500662\n",
       "2   1988.0     6.470160\n",
       "3   1989.0     8.346133\n",
       "4   1990.0     6.953657\n",
       "5   1991.0     4.690140\n",
       "6   1992.0     4.904006\n",
       "7   1993.0     5.267161\n",
       "8   1994.0     5.801915\n",
       "9   1995.0     6.875455\n",
       "10  1996.0     9.869064\n",
       "11  1997.0     7.733315\n",
       "12  1998.0     7.335230\n",
       "13  1999.0     8.143910\n",
       "14  2000.0    10.873776\n",
       "15  2001.0     5.335007\n",
       "16  2002.0     3.113855\n",
       "17  2003.0     3.535937\n",
       "18  2004.0     6.174518\n",
       "19  2005.0     7.384249\n",
       "20  2006.0     8.846128\n",
       "21  2007.0    10.356577\n",
       "22  2008.0     7.958911"
      ]
     },
     "execution_count": 16,
     "metadata": {},
     "output_type": "execute_result"
    }
   ],
   "source": [
    "give_answer_62(medium_df)"
   ]
  },
  {
   "cell_type": "code",
   "execution_count": 19,
   "id": "4aeeeb4e",
   "metadata": {},
   "outputs": [
    {
     "name": "stderr",
     "output_type": "stream",
     "text": [
      "25/05/25 17:34:47 WARN MemoryStore: Not enough space to cache rdd_8_0 in memory! (computed 324.3 MiB so far)\n",
      "[Stage 11:>                                                         (0 + 1) / 1]\r"
     ]
    },
    {
     "name": "stdout",
     "output_type": "stream",
     "text": [
      "Function 'give_answer_62' took 4.13963 seconds to execute.\n"
     ]
    },
    {
     "name": "stderr",
     "output_type": "stream",
     "text": [
      "                                                                                \r"
     ]
    },
    {
     "data": {
      "text/html": [
       "<div>\n",
       "<style scoped>\n",
       "    .dataframe tbody tr th:only-of-type {\n",
       "        vertical-align: middle;\n",
       "    }\n",
       "\n",
       "    .dataframe tbody tr th {\n",
       "        vertical-align: top;\n",
       "    }\n",
       "\n",
       "    .dataframe thead th {\n",
       "        text-align: right;\n",
       "    }\n",
       "</style>\n",
       "<table border=\"1\" class=\"dataframe\">\n",
       "  <thead>\n",
       "    <tr style=\"text-align: right;\">\n",
       "      <th></th>\n",
       "      <th>year</th>\n",
       "      <th>avgarrdelay</th>\n",
       "    </tr>\n",
       "  </thead>\n",
       "  <tbody>\n",
       "    <tr>\n",
       "      <th>0</th>\n",
       "      <td>NaN</td>\n",
       "      <td>NaN</td>\n",
       "    </tr>\n",
       "    <tr>\n",
       "      <th>1</th>\n",
       "      <td>1987.0</td>\n",
       "      <td>9.565858</td>\n",
       "    </tr>\n",
       "    <tr>\n",
       "      <th>2</th>\n",
       "      <td>1988.0</td>\n",
       "      <td>6.520993</td>\n",
       "    </tr>\n",
       "    <tr>\n",
       "      <th>3</th>\n",
       "      <td>1989.0</td>\n",
       "      <td>8.380842</td>\n",
       "    </tr>\n",
       "    <tr>\n",
       "      <th>4</th>\n",
       "      <td>1990.0</td>\n",
       "      <td>6.857801</td>\n",
       "    </tr>\n",
       "    <tr>\n",
       "      <th>5</th>\n",
       "      <td>1991.0</td>\n",
       "      <td>4.793891</td>\n",
       "    </tr>\n",
       "    <tr>\n",
       "      <th>6</th>\n",
       "      <td>1992.0</td>\n",
       "      <td>4.898404</td>\n",
       "    </tr>\n",
       "    <tr>\n",
       "      <th>7</th>\n",
       "      <td>1993.0</td>\n",
       "      <td>5.328828</td>\n",
       "    </tr>\n",
       "    <tr>\n",
       "      <th>8</th>\n",
       "      <td>1994.0</td>\n",
       "      <td>5.722930</td>\n",
       "    </tr>\n",
       "    <tr>\n",
       "      <th>9</th>\n",
       "      <td>1995.0</td>\n",
       "      <td>6.978182</td>\n",
       "    </tr>\n",
       "    <tr>\n",
       "      <th>10</th>\n",
       "      <td>1996.0</td>\n",
       "      <td>9.677928</td>\n",
       "    </tr>\n",
       "    <tr>\n",
       "      <th>11</th>\n",
       "      <td>1997.0</td>\n",
       "      <td>7.464441</td>\n",
       "    </tr>\n",
       "    <tr>\n",
       "      <th>12</th>\n",
       "      <td>1998.0</td>\n",
       "      <td>7.605688</td>\n",
       "    </tr>\n",
       "    <tr>\n",
       "      <th>13</th>\n",
       "      <td>1999.0</td>\n",
       "      <td>8.246347</td>\n",
       "    </tr>\n",
       "    <tr>\n",
       "      <th>14</th>\n",
       "      <td>2000.0</td>\n",
       "      <td>10.509782</td>\n",
       "    </tr>\n",
       "    <tr>\n",
       "      <th>15</th>\n",
       "      <td>2001.0</td>\n",
       "      <td>5.525047</td>\n",
       "    </tr>\n",
       "    <tr>\n",
       "      <th>16</th>\n",
       "      <td>2002.0</td>\n",
       "      <td>3.164458</td>\n",
       "    </tr>\n",
       "    <tr>\n",
       "      <th>17</th>\n",
       "      <td>2003.0</td>\n",
       "      <td>3.598431</td>\n",
       "    </tr>\n",
       "    <tr>\n",
       "      <th>18</th>\n",
       "      <td>2004.0</td>\n",
       "      <td>6.454310</td>\n",
       "    </tr>\n",
       "    <tr>\n",
       "      <th>19</th>\n",
       "      <td>2005.0</td>\n",
       "      <td>7.212147</td>\n",
       "    </tr>\n",
       "    <tr>\n",
       "      <th>20</th>\n",
       "      <td>2006.0</td>\n",
       "      <td>8.737506</td>\n",
       "    </tr>\n",
       "    <tr>\n",
       "      <th>21</th>\n",
       "      <td>2007.0</td>\n",
       "      <td>10.155803</td>\n",
       "    </tr>\n",
       "    <tr>\n",
       "      <th>22</th>\n",
       "      <td>2008.0</td>\n",
       "      <td>8.142600</td>\n",
       "    </tr>\n",
       "  </tbody>\n",
       "</table>\n",
       "</div>"
      ],
      "text/plain": [
       "      year  avgarrdelay\n",
       "0      NaN          NaN\n",
       "1   1987.0     9.565858\n",
       "2   1988.0     6.520993\n",
       "3   1989.0     8.380842\n",
       "4   1990.0     6.857801\n",
       "5   1991.0     4.793891\n",
       "6   1992.0     4.898404\n",
       "7   1993.0     5.328828\n",
       "8   1994.0     5.722930\n",
       "9   1995.0     6.978182\n",
       "10  1996.0     9.677928\n",
       "11  1997.0     7.464441\n",
       "12  1998.0     7.605688\n",
       "13  1999.0     8.246347\n",
       "14  2000.0    10.509782\n",
       "15  2001.0     5.525047\n",
       "16  2002.0     3.164458\n",
       "17  2003.0     3.598431\n",
       "18  2004.0     6.454310\n",
       "19  2005.0     7.212147\n",
       "20  2006.0     8.737506\n",
       "21  2007.0    10.155803\n",
       "22  2008.0     8.142600"
      ]
     },
     "execution_count": 19,
     "metadata": {},
     "output_type": "execute_result"
    }
   ],
   "source": [
    "ans = give_answer_62(big_df)\n",
    "ans\n"
   ]
  },
  {
   "cell_type": "code",
   "execution_count": 24,
   "id": "645de13c",
   "metadata": {},
   "outputs": [
    {
     "name": "stderr",
     "output_type": "stream",
     "text": [
      "25/05/25 23:13:40 WARN MemoryStore: Not enough space to cache rdd_17_0 in memory! (computed 324.3 MiB so far)\n"
     ]
    },
    {
     "name": "stdout",
     "output_type": "stream",
     "text": [
      "Function 'give_answer_62_rdd' took 2.25564 seconds to execute.\n"
     ]
    },
    {
     "name": "stderr",
     "output_type": "stream",
     "text": [
      "                                                                                \r"
     ]
    },
    {
     "data": {
      "text/html": [
       "<div>\n",
       "<style scoped>\n",
       "    .dataframe tbody tr th:only-of-type {\n",
       "        vertical-align: middle;\n",
       "    }\n",
       "\n",
       "    .dataframe tbody tr th {\n",
       "        vertical-align: top;\n",
       "    }\n",
       "\n",
       "    .dataframe thead th {\n",
       "        text-align: right;\n",
       "    }\n",
       "</style>\n",
       "<table border=\"1\" class=\"dataframe\">\n",
       "  <thead>\n",
       "    <tr style=\"text-align: right;\">\n",
       "      <th></th>\n",
       "      <th>year</th>\n",
       "      <th>avgarrdelay</th>\n",
       "    </tr>\n",
       "  </thead>\n",
       "  <tbody>\n",
       "    <tr>\n",
       "      <th>0</th>\n",
       "      <td>1987</td>\n",
       "      <td>8.697393</td>\n",
       "    </tr>\n",
       "    <tr>\n",
       "      <th>1</th>\n",
       "      <td>1988</td>\n",
       "      <td>6.558851</td>\n",
       "    </tr>\n",
       "    <tr>\n",
       "      <th>2</th>\n",
       "      <td>1989</td>\n",
       "      <td>8.089500</td>\n",
       "    </tr>\n",
       "    <tr>\n",
       "      <th>3</th>\n",
       "      <td>1990</td>\n",
       "      <td>6.594182</td>\n",
       "    </tr>\n",
       "    <tr>\n",
       "      <th>4</th>\n",
       "      <td>1991</td>\n",
       "      <td>4.419783</td>\n",
       "    </tr>\n",
       "    <tr>\n",
       "      <th>5</th>\n",
       "      <td>1992</td>\n",
       "      <td>5.121094</td>\n",
       "    </tr>\n",
       "    <tr>\n",
       "      <th>6</th>\n",
       "      <td>1993</td>\n",
       "      <td>4.745656</td>\n",
       "    </tr>\n",
       "    <tr>\n",
       "      <th>7</th>\n",
       "      <td>1994</td>\n",
       "      <td>5.766962</td>\n",
       "    </tr>\n",
       "    <tr>\n",
       "      <th>8</th>\n",
       "      <td>1995</td>\n",
       "      <td>6.700753</td>\n",
       "    </tr>\n",
       "    <tr>\n",
       "      <th>9</th>\n",
       "      <td>1996</td>\n",
       "      <td>9.708459</td>\n",
       "    </tr>\n",
       "    <tr>\n",
       "      <th>10</th>\n",
       "      <td>1997</td>\n",
       "      <td>7.963189</td>\n",
       "    </tr>\n",
       "    <tr>\n",
       "      <th>11</th>\n",
       "      <td>1998</td>\n",
       "      <td>7.055992</td>\n",
       "    </tr>\n",
       "    <tr>\n",
       "      <th>12</th>\n",
       "      <td>1999</td>\n",
       "      <td>7.894812</td>\n",
       "    </tr>\n",
       "    <tr>\n",
       "      <th>13</th>\n",
       "      <td>2000</td>\n",
       "      <td>11.105867</td>\n",
       "    </tr>\n",
       "    <tr>\n",
       "      <th>14</th>\n",
       "      <td>2001</td>\n",
       "      <td>6.681907</td>\n",
       "    </tr>\n",
       "    <tr>\n",
       "      <th>15</th>\n",
       "      <td>2002</td>\n",
       "      <td>2.877437</td>\n",
       "    </tr>\n",
       "    <tr>\n",
       "      <th>16</th>\n",
       "      <td>2003</td>\n",
       "      <td>3.726759</td>\n",
       "    </tr>\n",
       "    <tr>\n",
       "      <th>17</th>\n",
       "      <td>2004</td>\n",
       "      <td>6.452796</td>\n",
       "    </tr>\n",
       "    <tr>\n",
       "      <th>18</th>\n",
       "      <td>2005</td>\n",
       "      <td>8.322216</td>\n",
       "    </tr>\n",
       "    <tr>\n",
       "      <th>19</th>\n",
       "      <td>2006</td>\n",
       "      <td>8.770775</td>\n",
       "    </tr>\n",
       "    <tr>\n",
       "      <th>20</th>\n",
       "      <td>2007</td>\n",
       "      <td>11.174797</td>\n",
       "    </tr>\n",
       "    <tr>\n",
       "      <th>21</th>\n",
       "      <td>2008</td>\n",
       "      <td>7.592350</td>\n",
       "    </tr>\n",
       "  </tbody>\n",
       "</table>\n",
       "</div>"
      ],
      "text/plain": [
       "    year  avgarrdelay\n",
       "0   1987     8.697393\n",
       "1   1988     6.558851\n",
       "2   1989     8.089500\n",
       "3   1990     6.594182\n",
       "4   1991     4.419783\n",
       "5   1992     5.121094\n",
       "6   1993     4.745656\n",
       "7   1994     5.766962\n",
       "8   1995     6.700753\n",
       "9   1996     9.708459\n",
       "10  1997     7.963189\n",
       "11  1998     7.055992\n",
       "12  1999     7.894812\n",
       "13  2000    11.105867\n",
       "14  2001     6.681907\n",
       "15  2002     2.877437\n",
       "16  2003     3.726759\n",
       "17  2004     6.452796\n",
       "18  2005     8.322216\n",
       "19  2006     8.770775\n",
       "20  2007    11.174797\n",
       "21  2008     7.592350"
      ]
     },
     "execution_count": 24,
     "metadata": {},
     "output_type": "execute_result"
    }
   ],
   "source": [
    "ans = give_answer_62_rdd(small_rdd)\n",
    "ans"
   ]
  },
  {
   "cell_type": "code",
   "execution_count": 25,
   "id": "0e8769d3",
   "metadata": {},
   "outputs": [
    {
     "name": "stderr",
     "output_type": "stream",
     "text": [
      "25/05/25 23:13:42 WARN MemoryStore: Not enough space to cache rdd_17_0 in memory! (computed 324.3 MiB so far)\n"
     ]
    },
    {
     "name": "stdout",
     "output_type": "stream",
     "text": [
      "Function 'give_answer_62_rdd' took 8.15227 seconds to execute.\n"
     ]
    },
    {
     "name": "stderr",
     "output_type": "stream",
     "text": [
      "                                                                                \r"
     ]
    },
    {
     "data": {
      "text/html": [
       "<div>\n",
       "<style scoped>\n",
       "    .dataframe tbody tr th:only-of-type {\n",
       "        vertical-align: middle;\n",
       "    }\n",
       "\n",
       "    .dataframe tbody tr th {\n",
       "        vertical-align: top;\n",
       "    }\n",
       "\n",
       "    .dataframe thead th {\n",
       "        text-align: right;\n",
       "    }\n",
       "</style>\n",
       "<table border=\"1\" class=\"dataframe\">\n",
       "  <thead>\n",
       "    <tr style=\"text-align: right;\">\n",
       "      <th></th>\n",
       "      <th>year</th>\n",
       "      <th>avgarrdelay</th>\n",
       "    </tr>\n",
       "  </thead>\n",
       "  <tbody>\n",
       "    <tr>\n",
       "      <th>0</th>\n",
       "      <td>1987</td>\n",
       "      <td>9.500662</td>\n",
       "    </tr>\n",
       "    <tr>\n",
       "      <th>1</th>\n",
       "      <td>1988</td>\n",
       "      <td>6.470160</td>\n",
       "    </tr>\n",
       "    <tr>\n",
       "      <th>2</th>\n",
       "      <td>1989</td>\n",
       "      <td>8.346133</td>\n",
       "    </tr>\n",
       "    <tr>\n",
       "      <th>3</th>\n",
       "      <td>1990</td>\n",
       "      <td>6.953657</td>\n",
       "    </tr>\n",
       "    <tr>\n",
       "      <th>4</th>\n",
       "      <td>1991</td>\n",
       "      <td>4.690140</td>\n",
       "    </tr>\n",
       "    <tr>\n",
       "      <th>5</th>\n",
       "      <td>1992</td>\n",
       "      <td>4.904006</td>\n",
       "    </tr>\n",
       "    <tr>\n",
       "      <th>6</th>\n",
       "      <td>1993</td>\n",
       "      <td>5.267161</td>\n",
       "    </tr>\n",
       "    <tr>\n",
       "      <th>7</th>\n",
       "      <td>1994</td>\n",
       "      <td>5.801915</td>\n",
       "    </tr>\n",
       "    <tr>\n",
       "      <th>8</th>\n",
       "      <td>1995</td>\n",
       "      <td>6.875455</td>\n",
       "    </tr>\n",
       "    <tr>\n",
       "      <th>9</th>\n",
       "      <td>1996</td>\n",
       "      <td>9.869064</td>\n",
       "    </tr>\n",
       "    <tr>\n",
       "      <th>10</th>\n",
       "      <td>1997</td>\n",
       "      <td>7.733315</td>\n",
       "    </tr>\n",
       "    <tr>\n",
       "      <th>11</th>\n",
       "      <td>1998</td>\n",
       "      <td>7.335230</td>\n",
       "    </tr>\n",
       "    <tr>\n",
       "      <th>12</th>\n",
       "      <td>1999</td>\n",
       "      <td>8.143910</td>\n",
       "    </tr>\n",
       "    <tr>\n",
       "      <th>13</th>\n",
       "      <td>2000</td>\n",
       "      <td>10.873776</td>\n",
       "    </tr>\n",
       "    <tr>\n",
       "      <th>14</th>\n",
       "      <td>2001</td>\n",
       "      <td>5.335007</td>\n",
       "    </tr>\n",
       "    <tr>\n",
       "      <th>15</th>\n",
       "      <td>2002</td>\n",
       "      <td>3.113855</td>\n",
       "    </tr>\n",
       "    <tr>\n",
       "      <th>16</th>\n",
       "      <td>2003</td>\n",
       "      <td>3.535937</td>\n",
       "    </tr>\n",
       "    <tr>\n",
       "      <th>17</th>\n",
       "      <td>2004</td>\n",
       "      <td>6.174518</td>\n",
       "    </tr>\n",
       "    <tr>\n",
       "      <th>18</th>\n",
       "      <td>2005</td>\n",
       "      <td>7.384249</td>\n",
       "    </tr>\n",
       "    <tr>\n",
       "      <th>19</th>\n",
       "      <td>2006</td>\n",
       "      <td>8.846128</td>\n",
       "    </tr>\n",
       "    <tr>\n",
       "      <th>20</th>\n",
       "      <td>2007</td>\n",
       "      <td>10.356577</td>\n",
       "    </tr>\n",
       "    <tr>\n",
       "      <th>21</th>\n",
       "      <td>2008</td>\n",
       "      <td>7.958911</td>\n",
       "    </tr>\n",
       "  </tbody>\n",
       "</table>\n",
       "</div>"
      ],
      "text/plain": [
       "    year  avgarrdelay\n",
       "0   1987     9.500662\n",
       "1   1988     6.470160\n",
       "2   1989     8.346133\n",
       "3   1990     6.953657\n",
       "4   1991     4.690140\n",
       "5   1992     4.904006\n",
       "6   1993     5.267161\n",
       "7   1994     5.801915\n",
       "8   1995     6.875455\n",
       "9   1996     9.869064\n",
       "10  1997     7.733315\n",
       "11  1998     7.335230\n",
       "12  1999     8.143910\n",
       "13  2000    10.873776\n",
       "14  2001     5.335007\n",
       "15  2002     3.113855\n",
       "16  2003     3.535937\n",
       "17  2004     6.174518\n",
       "18  2005     7.384249\n",
       "19  2006     8.846128\n",
       "20  2007    10.356577\n",
       "21  2008     7.958911"
      ]
     },
     "execution_count": 25,
     "metadata": {},
     "output_type": "execute_result"
    }
   ],
   "source": [
    "ans = give_answer_62_rdd(medium_rdd)\n",
    "ans"
   ]
  },
  {
   "cell_type": "code",
   "execution_count": 26,
   "id": "b09e440e",
   "metadata": {},
   "outputs": [
    {
     "name": "stderr",
     "output_type": "stream",
     "text": [
      "25/05/25 23:14:45 WARN MemoryStore: Not enough space to cache rdd_17_0 in memory! (computed 324.3 MiB so far)\n"
     ]
    },
    {
     "name": "stdout",
     "output_type": "stream",
     "text": [
      "Function 'give_answer_62_rdd' took 60.18735 seconds to execute.\n",
      "Human-readable time: 1.0mins 0.1873461100003624secs\n"
     ]
    },
    {
     "name": "stderr",
     "output_type": "stream",
     "text": [
      "                                                                                \r"
     ]
    },
    {
     "data": {
      "text/html": [
       "<div>\n",
       "<style scoped>\n",
       "    .dataframe tbody tr th:only-of-type {\n",
       "        vertical-align: middle;\n",
       "    }\n",
       "\n",
       "    .dataframe tbody tr th {\n",
       "        vertical-align: top;\n",
       "    }\n",
       "\n",
       "    .dataframe thead th {\n",
       "        text-align: right;\n",
       "    }\n",
       "</style>\n",
       "<table border=\"1\" class=\"dataframe\">\n",
       "  <thead>\n",
       "    <tr style=\"text-align: right;\">\n",
       "      <th></th>\n",
       "      <th>year</th>\n",
       "      <th>avgarrdelay</th>\n",
       "    </tr>\n",
       "  </thead>\n",
       "  <tbody>\n",
       "    <tr>\n",
       "      <th>0</th>\n",
       "      <td>1987</td>\n",
       "      <td>9.565858</td>\n",
       "    </tr>\n",
       "    <tr>\n",
       "      <th>1</th>\n",
       "      <td>1988</td>\n",
       "      <td>6.520993</td>\n",
       "    </tr>\n",
       "    <tr>\n",
       "      <th>2</th>\n",
       "      <td>1989</td>\n",
       "      <td>8.380842</td>\n",
       "    </tr>\n",
       "    <tr>\n",
       "      <th>3</th>\n",
       "      <td>1990</td>\n",
       "      <td>6.857801</td>\n",
       "    </tr>\n",
       "    <tr>\n",
       "      <th>4</th>\n",
       "      <td>1991</td>\n",
       "      <td>4.793891</td>\n",
       "    </tr>\n",
       "    <tr>\n",
       "      <th>5</th>\n",
       "      <td>1992</td>\n",
       "      <td>4.898404</td>\n",
       "    </tr>\n",
       "    <tr>\n",
       "      <th>6</th>\n",
       "      <td>1993</td>\n",
       "      <td>5.328828</td>\n",
       "    </tr>\n",
       "    <tr>\n",
       "      <th>7</th>\n",
       "      <td>1994</td>\n",
       "      <td>5.722930</td>\n",
       "    </tr>\n",
       "    <tr>\n",
       "      <th>8</th>\n",
       "      <td>1995</td>\n",
       "      <td>6.978182</td>\n",
       "    </tr>\n",
       "    <tr>\n",
       "      <th>9</th>\n",
       "      <td>1996</td>\n",
       "      <td>9.677928</td>\n",
       "    </tr>\n",
       "    <tr>\n",
       "      <th>10</th>\n",
       "      <td>1997</td>\n",
       "      <td>7.464441</td>\n",
       "    </tr>\n",
       "    <tr>\n",
       "      <th>11</th>\n",
       "      <td>1998</td>\n",
       "      <td>7.605688</td>\n",
       "    </tr>\n",
       "    <tr>\n",
       "      <th>12</th>\n",
       "      <td>1999</td>\n",
       "      <td>8.246347</td>\n",
       "    </tr>\n",
       "    <tr>\n",
       "      <th>13</th>\n",
       "      <td>2000</td>\n",
       "      <td>10.509782</td>\n",
       "    </tr>\n",
       "    <tr>\n",
       "      <th>14</th>\n",
       "      <td>2001</td>\n",
       "      <td>5.525047</td>\n",
       "    </tr>\n",
       "    <tr>\n",
       "      <th>15</th>\n",
       "      <td>2002</td>\n",
       "      <td>3.164458</td>\n",
       "    </tr>\n",
       "    <tr>\n",
       "      <th>16</th>\n",
       "      <td>2003</td>\n",
       "      <td>3.598431</td>\n",
       "    </tr>\n",
       "    <tr>\n",
       "      <th>17</th>\n",
       "      <td>2004</td>\n",
       "      <td>6.454310</td>\n",
       "    </tr>\n",
       "    <tr>\n",
       "      <th>18</th>\n",
       "      <td>2005</td>\n",
       "      <td>7.212147</td>\n",
       "    </tr>\n",
       "    <tr>\n",
       "      <th>19</th>\n",
       "      <td>2006</td>\n",
       "      <td>8.737506</td>\n",
       "    </tr>\n",
       "    <tr>\n",
       "      <th>20</th>\n",
       "      <td>2007</td>\n",
       "      <td>10.155803</td>\n",
       "    </tr>\n",
       "    <tr>\n",
       "      <th>21</th>\n",
       "      <td>2008</td>\n",
       "      <td>8.142600</td>\n",
       "    </tr>\n",
       "  </tbody>\n",
       "</table>\n",
       "</div>"
      ],
      "text/plain": [
       "    year  avgarrdelay\n",
       "0   1987     9.565858\n",
       "1   1988     6.520993\n",
       "2   1989     8.380842\n",
       "3   1990     6.857801\n",
       "4   1991     4.793891\n",
       "5   1992     4.898404\n",
       "6   1993     5.328828\n",
       "7   1994     5.722930\n",
       "8   1995     6.978182\n",
       "9   1996     9.677928\n",
       "10  1997     7.464441\n",
       "11  1998     7.605688\n",
       "12  1999     8.246347\n",
       "13  2000    10.509782\n",
       "14  2001     5.525047\n",
       "15  2002     3.164458\n",
       "16  2003     3.598431\n",
       "17  2004     6.454310\n",
       "18  2005     7.212147\n",
       "19  2006     8.737506\n",
       "20  2007    10.155803\n",
       "21  2008     8.142600"
      ]
     },
     "execution_count": 26,
     "metadata": {},
     "output_type": "execute_result"
    }
   ],
   "source": [
    "ans = give_answer_62_rdd(big_rdd)\n",
    "ans"
   ]
  },
  {
   "cell_type": "code",
   "execution_count": 25,
   "id": "3aa8108a",
   "metadata": {},
   "outputs": [
    {
     "data": {
      "image/png": "[encoded data removed]",
      "text/plain": [
       "<Figure size 1000x600 with 1 Axes>"
      ]
     },
     "metadata": {},
     "output_type": "display_data"
    }
   ],
   "source": [
    "\n",
    "import matplotlib.pyplot as plt\n",
    "import numpy as np\n",
    "x = ans[\"year\"]\n",
    "y = ans[\"avgarrdelay\"]\n",
    "\n",
    "plt.figure(figsize=(10, 6))\n",
    "plt.bar(x, y, color=\"blue\", alpha=0.7, label=\"Average Delay\")\n",
    "\n",
    "x = ans[\"year\"].to_numpy(dtype=float)\n",
    "y = ans[\"avgarrdelay\"].to_numpy(dtype=float)\n",
    "\n",
    "# Drop any rows where x or y is NaN or infinite\n",
    "mask = np.isfinite(x) & np.isfinite(y)\n",
    "x = x[mask]\n",
    "y = y[mask]\n",
    "\n",
    "# add a trend line using numpy.polyfit\n",
    "z = np.polyfit(x, y, 1)\n",
    "p = np.poly1d(z)\n",
    "plt.plot(x, p(x), color=\"red\", linestyle=\"--\", label=\"Trend Line\")\n",
    "\n",
    "plt.title(\"Average Arrival Delay by Year\")\n",
    "plt.xlabel(\"Year\")\n",
    "plt.ylabel(\"Average Arrival Delay (minutes)\")\n",
    "plt.xticks(rotation=45)\n",
    "plt.legend()\n",
    "plt.tight_layout()\n",
    "plt.show()"
   ]
  },
  {
   "cell_type": "code",
   "execution_count": 7,
   "id": "6fec3fd5",
   "metadata": {},
   "outputs": [],
   "source": [
    "@perf_timer\n",
    "def give_answer_65(df):\n",
    "    \"\"\"Try to find a correlation between arrival and departure delays for flights exiting the same airport\"\"\"\n",
    "    joined_df = df.alias(\"a\").join(\n",
    "        df.alias(\"b\"),\n",
    "        col(\"a.dest\") == col(\"b.origin\"),\n",
    "        \"inner\"\n",
    "    ).select(\n",
    "        col(\"a.origin\").alias(\"origin_airport\"),\n",
    "        col(\"a.dest\").alias(\"connecting_airport\"),\n",
    "        col(\"b.dest\").alias(\"final_airport\"),\n",
    "        col(\"a.arrdelay\").alias(\"arrival_delay\"),\n",
    "        col(\"b.depdelay\").alias(\"departure_delay\")\n",
    "    )\n",
    "\n",
    "    # correlation\n",
    "    correlation = joined_df.stat.corr(\"arrival_delay\", \"departure_delay\")\n",
    "    print(f\"Correlation between arrival and departure delays: {correlation:.4f}\")"
   ]
  },
  {
   "cell_type": "code",
   "execution_count": 29,
   "id": "1b98ea90",
   "metadata": {},
   "outputs": [],
   "source": [
    "import math\n",
    "\n",
    "@perf_timer\n",
    "def give_answer_65_rdd(rdd: RDD) -> None:\n",
    "    \"\"\"\n",
    "    Compute and print Pearson correlation between arrival delays of incoming flights\n",
    "    and departure delays of outgoing flights at the same connecting airport.\n",
    "    Uses the RDD API end-to-end.\n",
    "    \"\"\"\n",
    "    clean = rdd.filter(lambda row: row.origin is not None \\\n",
    "                             and row.dest is not None \\\n",
    "                             and row.arrdelay is not None \\\n",
    "                             and row.depdelay is not None)\n",
    "\n",
    "    arrivals = clean.map(lambda row: (row.dest, row.arrdelay))\n",
    "    departures = clean.map(lambda row: (row.origin, row.depdelay))\n",
    "    joined = arrivals.join(departures)\n",
    "    stats = (\n",
    "        joined\n",
    "        .map(lambda kv: (kv[1][0], kv[1][1], kv[1][0] * kv[1][1], kv[1][0]**2, kv[1][1]**2, 1))\n",
    "        .reduce(lambda a, b: (\n",
    "            a[0] + b[0],\n",
    "            a[1] + b[1],\n",
    "            a[2] + b[2],\n",
    "            a[3] + b[3],\n",
    "            a[4] + b[4],\n",
    "            a[5] + b[5]\n",
    "        ))\n",
    "    )\n",
    "\n",
    "    sum_x, sum_y, sum_xy, sum_x2, sum_y2, n = stats\n",
    "    numerator = n * sum_xy - sum_x * sum_y\n",
    "    denom_x = n * sum_x2 - sum_x * sum_x\n",
    "    denom_y = n * sum_y2 - sum_y * sum_y\n",
    "    if denom_x <= 0 or denom_y <= 0:\n",
    "        print(\"Insufficient variance to compute correlation.\")\n",
    "        return\n",
    "    correlation = numerator / math.sqrt(denom_x * denom_y)\n",
    "\n",
    "    print(f\"Correlation between arrival and departure delays: {correlation:.4f}\")\n"
   ]
  },
  {
   "cell_type": "code",
   "execution_count": 8,
   "id": "ebed2c6e",
   "metadata": {},
   "outputs": [],
   "source": [
    "spark.catalog.clearCache()\n"
   ]
  },
  {
   "cell_type": "code",
   "execution_count": 9,
   "id": "24ede4ac",
   "metadata": {},
   "outputs": [
    {
     "name": "stderr",
     "output_type": "stream",
     "text": [
      "25/05/25 22:40:20 WARN MemoryStore: Not enough space to cache rdd_8_0 in memory! (computed 324.3 MiB so far)\n",
      "25/05/25 22:40:21 WARN MemoryStore: Not enough space to cache rdd_8_0 in memory! (computed 324.3 MiB so far)\n"
     ]
    },
    {
     "name": "stdout",
     "output_type": "stream",
     "text": [
      "Correlation between arrival and departure delays: 0.0027\n",
      "Function 'give_answer_65' took 18.43617 seconds to execute.\n"
     ]
    },
    {
     "name": "stderr",
     "output_type": "stream",
     "text": [
      "                                                                                \r"
     ]
    }
   ],
   "source": [
    "give_answer_65(small_df)"
   ]
  },
  {
   "cell_type": "code",
   "execution_count": 10,
   "id": "f944ee06",
   "metadata": {},
   "outputs": [
    {
     "name": "stderr",
     "output_type": "stream",
     "text": [
      "25/05/25 22:42:13 WARN MemoryStore: Not enough space to cache rdd_8_0 in memory! (computed 324.3 MiB so far)\n",
      "25/05/25 22:42:13 WARN MemoryStore: Not enough space to cache rdd_8_0 in memory! (computed 40.0 MiB so far)\n",
      "[Stage 5:>                                                          (0 + 1) / 1]\r"
     ]
    },
    {
     "name": "stdout",
     "output_type": "stream",
     "text": [
      "Correlation between arrival and departure delays: 0.0020\n",
      "Function 'give_answer_65' took 240.90467 seconds to execute.\n",
      "Human-readable time: 4.0mins 0.9046686829969985secs\n"
     ]
    },
    {
     "name": "stderr",
     "output_type": "stream",
     "text": [
      "                                                                                \r"
     ]
    }
   ],
   "source": [
    "give_answer_65(medium_df)\n"
   ]
  },
  {
   "cell_type": "code",
   "execution_count": 30,
   "id": "8c0e7ad7",
   "metadata": {},
   "outputs": [
    {
     "name": "stderr",
     "output_type": "stream",
     "text": [
      "25/05/25 23:22:51 WARN MemoryStore: Not enough space to cache rdd_17_0 in memory! (computed 324.3 MiB so far)\n",
      "25/05/25 23:22:51 WARN MemoryStore: Not enough space to cache rdd_17_0 in memory! (computed 40.0 MiB so far)\n",
      "[Stage 23:=============================>                            (1 + 1) / 2]\r"
     ]
    },
    {
     "name": "stdout",
     "output_type": "stream",
     "text": [
      "Correlation between arrival and departure delays: 0.0029\n",
      "Function 'give_answer_65_rdd' took 64.28561 seconds to execute.\n",
      "Human-readable time: 1.0mins 4.2856121420009secs\n"
     ]
    },
    {
     "name": "stderr",
     "output_type": "stream",
     "text": [
      "                                                                                \r"
     ]
    }
   ],
   "source": [
    "give_answer_65_rdd(small_rdd)\n"
   ]
  }
 ],
 "metadata": {
  "kernelspec": {
   "display_name": "Python 3 (hduser + PySpark)",
   "language": "python",
   "name": "hduser-pyspark"
  },
  "language_info": {
   "codemirror_mode": {
    "name": "ipython",
    "version": 3
   },
   "file_extension": ".py",
   "mimetype": "text/x-python",
   "name": "python",
   "nbconvert_exporter": "python",
   "pygments_lexer": "ipython3",
   "version": "3.12.3"
  }
 },
 "nbformat": 4,
 "nbformat_minor": 5
}
